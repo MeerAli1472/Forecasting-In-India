{
 "cells": [
  {
   "cell_type": "markdown",
   "id": "6f75e833",
   "metadata": {},
   "source": [
    "<font size=\"+3\"><strong>8.2. Test Driven Development</strong></font>"
   ]
  },
  {
   "cell_type": "markdown",
   "id": "319ffee7",
   "metadata": {},
   "source": [
    "In the previous lesson, we learned how to get data from an API. In this lesson, we have two goals. First, we'll take the code we used to access the API and build an `AlphaVantageAPI` class. This will allow us to reuse our code. Second, we'll create a `SQLRepository` class that will help us load our stock data into a SQLite database and then extract it for later use. Additionally, we'll build this code using a technique called **test driven development**, where we'll use `assert` statements to make sure everything is working properly. That way, we'll avoid issues later when we build our application."
   ]
  },
  {
   "cell_type": "code",
   "execution_count": 2,
   "id": "455e29db",
   "metadata": {},
   "outputs": [
    {
     "name": "stderr",
     "output_type": "stream",
     "text": [
      "C:\\Users\\MEER\\anaconda3\\lib\\site-packages\\pydantic\\_internal\\_fields.py:128: UserWarning: Field \"model_directory\" has conflict with protected namespace \"model_\".\n",
      "\n",
      "You may be able to resolve this warning by setting `model_config['protected_namespaces'] = ('settings_',)`.\n",
      "  warnings.warn(\n"
     ]
    }
   ],
   "source": [
    "\n",
    "import sqlite3\n",
    "\n",
    "import matplotlib.pyplot as plt\n",
    "import pandas as pd\n",
    "\n",
    "from config import settings\n"
   ]
  },
  {
   "cell_type": "markdown",
   "id": "9ac424a9",
   "metadata": {},
   "source": [
    "# Building Our Data Module"
   ]
  },
  {
   "cell_type": "markdown",
   "id": "bc7efdb6",
   "metadata": {},
   "source": [
    "For our application, we're going to keep all the classes we use to extract, transform, and load data in a single module that we'll call `data`."
   ]
  },
  {
   "cell_type": "markdown",
   "id": "66af93f6",
   "metadata": {},
   "source": [
    "## AlphaVantage API Class"
   ]
  },
  {
   "cell_type": "markdown",
   "id": "b697f68a",
   "metadata": {},
   "source": [
    "Let's get started by taking the code we created in the last lesson and incorporating it into a class that will be in charge of getting data from the AlphaVantage API."
   ]
  },
  {
   "cell_type": "markdown",
   "id": "fb010481",
   "metadata": {},
   "source": [
    "**Task 8.2.1:** In the `data` module, create a class definition for `AlphaVantageAPI`. For now, making sure that it has an `__init__` method that attaches your API key as the attribute `__api_key`. Once you're done, import the class below and create an instance of it called `av`."
   ]
  },
  {
   "cell_type": "code",
   "execution_count": 3,
   "id": "25f5196a",
   "metadata": {},
   "outputs": [
    {
     "name": "stdout",
     "output_type": "stream",
     "text": [
      "av type: <class 'data.AlphaVantageAPI'>\n"
     ]
    }
   ],
   "source": [
    "# Import `AlphaVantageAPI`\n",
    "from data import AlphaVantageAPI\n",
    "\n",
    "# Create instance of `AlphaVantageAPI` class\n",
    "av = AlphaVantageAPI()\n",
    "\n",
    "print(\"av type:\", type(av))"
   ]
  },
  {
   "cell_type": "markdown",
   "id": "c7dfa355",
   "metadata": {},
   "source": [
    "Remember the `get_daily` function we made in the last lesson? Now we're going to turn it into a class method."
   ]
  },
  {
   "cell_type": "markdown",
   "id": "4e780abc",
   "metadata": {},
   "source": [
    "**Task 8.2.2:** Create a `get_daily` method for your `AlphaVantageAPI` class. Once you're done, use the cell below to fetch the stock data for the renewable energy company [Suzlon](https://www.suzlon.com/) and assign it to the DataFrame `df_suzlon`."
   ]
  },
  {
   "cell_type": "code",
   "execution_count": 4,
   "id": "b5ad3e62",
   "metadata": {},
   "outputs": [
    {
     "name": "stdout",
     "output_type": "stream",
     "text": [
      "df_suzlon type: <class 'pandas.core.frame.DataFrame'>\n",
      "df_suzlon shape: (100, 5)\n"
     ]
    },
    {
     "data": {
      "text/html": [
       "<div>\n",
       "<style scoped>\n",
       "    .dataframe tbody tr th:only-of-type {\n",
       "        vertical-align: middle;\n",
       "    }\n",
       "\n",
       "    .dataframe tbody tr th {\n",
       "        vertical-align: top;\n",
       "    }\n",
       "\n",
       "    .dataframe thead th {\n",
       "        text-align: right;\n",
       "    }\n",
       "</style>\n",
       "<table border=\"1\" class=\"dataframe\">\n",
       "  <thead>\n",
       "    <tr style=\"text-align: right;\">\n",
       "      <th></th>\n",
       "      <th>open</th>\n",
       "      <th>high</th>\n",
       "      <th>low</th>\n",
       "      <th>close</th>\n",
       "      <th>volume</th>\n",
       "    </tr>\n",
       "    <tr>\n",
       "      <th>date</th>\n",
       "      <th></th>\n",
       "      <th></th>\n",
       "      <th></th>\n",
       "      <th></th>\n",
       "      <th></th>\n",
       "    </tr>\n",
       "  </thead>\n",
       "  <tbody>\n",
       "    <tr>\n",
       "      <th>2023-09-28</th>\n",
       "      <td>25.75</td>\n",
       "      <td>26.40</td>\n",
       "      <td>25.5</td>\n",
       "      <td>25.63</td>\n",
       "      <td>19550292.0</td>\n",
       "    </tr>\n",
       "    <tr>\n",
       "      <th>2023-09-27</th>\n",
       "      <td>25.19</td>\n",
       "      <td>25.93</td>\n",
       "      <td>25.1</td>\n",
       "      <td>25.65</td>\n",
       "      <td>14521270.0</td>\n",
       "    </tr>\n",
       "    <tr>\n",
       "      <th>2023-09-26</th>\n",
       "      <td>25.59</td>\n",
       "      <td>26.10</td>\n",
       "      <td>25.0</td>\n",
       "      <td>25.98</td>\n",
       "      <td>22453990.0</td>\n",
       "    </tr>\n",
       "    <tr>\n",
       "      <th>2023-09-25</th>\n",
       "      <td>25.75</td>\n",
       "      <td>26.02</td>\n",
       "      <td>25.1</td>\n",
       "      <td>25.50</td>\n",
       "      <td>14709970.0</td>\n",
       "    </tr>\n",
       "    <tr>\n",
       "      <th>2023-09-22</th>\n",
       "      <td>25.53</td>\n",
       "      <td>25.86</td>\n",
       "      <td>24.5</td>\n",
       "      <td>25.05</td>\n",
       "      <td>10115690.0</td>\n",
       "    </tr>\n",
       "  </tbody>\n",
       "</table>\n",
       "</div>"
      ],
      "text/plain": [
       "             open   high   low  close      volume\n",
       "date                                             \n",
       "2023-09-28  25.75  26.40  25.5  25.63  19550292.0\n",
       "2023-09-27  25.19  25.93  25.1  25.65  14521270.0\n",
       "2023-09-26  25.59  26.10  25.0  25.98  22453990.0\n",
       "2023-09-25  25.75  26.02  25.1  25.50  14709970.0\n",
       "2023-09-22  25.53  25.86  24.5  25.05  10115690.0"
      ]
     },
     "execution_count": 4,
     "metadata": {},
     "output_type": "execute_result"
    }
   ],
   "source": [
    "# Define Suzlon ticker symbol\n",
    "ticker = \"SUZLON.BSE\"\n",
    "\n",
    "# Use your `av` object to get daily data\n",
    "df_suzlon = av.get_daily(ticker=ticker)\n",
    "\n",
    "print(\"df_suzlon type:\", type(df_suzlon))\n",
    "print(\"df_suzlon shape:\", df_suzlon.shape)\n",
    "df_suzlon.head()"
   ]
  },
  {
   "cell_type": "markdown",
   "id": "859a9544",
   "metadata": {},
   "source": [
    "Okay! The next thing we need to do is test our new method to make sure it works the way we want it to. Usually, these sorts of tests are written *before* writing the method, but, in this first case, we'll do it the other way around in order to get a better sense of how assert statements work."
   ]
  },
  {
   "cell_type": "markdown",
   "id": "ad9aa7fc",
   "metadata": {},
   "source": [
    "**Task 8.2.3:** Create four assert statements to test the output of your `get_daily` method. Use the comments below as a guide."
   ]
  },
  {
   "cell_type": "code",
   "execution_count": 5,
   "id": "5fe2d65c",
   "metadata": {},
   "outputs": [],
   "source": [
    "# Does `get_daily` return a DataFrame?\n",
    "assert isinstance(df_suzlon, pd.DataFrame)\n",
    "\n",
    "# Does DataFrame have 5 columns?\n",
    "assert df_suzlon.shape[1] == 5\n",
    "\n",
    "# Does DataFrame have a DatetimeIndex?\n",
    "assert isinstance(df_suzlon.index,pd.DatetimeIndex)\n",
    "\n",
    "# Is the index name \"date\"?\n",
    "assert df_suzlon.index.name == \"date\""
   ]
  },
  {
   "cell_type": "markdown",
   "id": "55a4b5bd",
   "metadata": {},
   "source": [
    "**Task 8.2.4:** Create two more tests for the output of your `get_daily` method. Use the comments below as a guide."
   ]
  },
  {
   "cell_type": "code",
   "execution_count": 6,
   "id": "0f381054",
   "metadata": {},
   "outputs": [],
   "source": [
    "# Does DataFrame have correct column names?\n",
    "assert df_suzlon.columns.to_list() == ['open', 'high', 'low', 'close', 'volume']\n",
    "\n",
    "# Are columns correct data type?\n",
    "assert all(df_suzlon.dtypes==float)"
   ]
  },
  {
   "cell_type": "markdown",
   "id": "20a2fbd3",
   "metadata": {},
   "source": [
    "Okay! Now that our `AlphaVantageAPI` is ready to get data, let's turn our focus to the class we'll need for storing our data in our SQLite database.<span style='color: transparent; font-size:1%'>WQU WorldQuant University Applied Data Science Lab QQQQ</span>"
   ]
  },
  {
   "cell_type": "markdown",
   "id": "54a2ab85",
   "metadata": {},
   "source": [
    "## SQL Repository Class"
   ]
  },
  {
   "cell_type": "markdown",
   "id": "d5a86b2c",
   "metadata": {},
   "source": [
    "It wouldn't be efficient if our application needed to get data from the AlphaVantage API every time we wanted to explore our data or build a model, so we'll need to store our data in a database. Because our data is highly structured (each DataFrame we extract from AlphaVantage is always going to have the same five columns), it makes sense to use a SQL database.\n",
    "\n",
    "We'll use SQLite for our database. For consistency, this database will always have the same name, which we've stored in our `.env` file."
   ]
  },
  {
   "cell_type": "markdown",
   "id": "0c1eeaa5",
   "metadata": {},
   "source": [
    "**Task 8.2.5:** Connect to the database whose name is stored in the `.env` file for this project. Be sure to set the `check_same_thread` argument to `False`. Assign the connection to the variable `connection`."
   ]
  },
  {
   "cell_type": "code",
   "execution_count": 7,
   "id": "9c0e48bd",
   "metadata": {},
   "outputs": [
    {
     "name": "stdout",
     "output_type": "stream",
     "text": [
      "connection type: <class 'sqlite3.Connection'>\n"
     ]
    }
   ],
   "source": [
    "connection = sqlite3.connect(database=settings.db_name, check_same_thread=False)\n",
    "\n",
    "print(\"connection type:\", type(connection))"
   ]
  },
  {
   "cell_type": "markdown",
   "id": "491c9e9b",
   "metadata": {},
   "source": [
    "We've got a connection, and now we need to start building the class that will handle all our transactions with the database. With this class, though, we're going to create our tests *before* writing the class definition."
   ]
  },
  {
   "cell_type": "markdown",
   "id": "64a6529e",
   "metadata": {},
   "source": [
    "**Task 8.2.6:** Write two tests for the `SQLRepository` class, using the comments below as a guide."
   ]
  },
  {
   "cell_type": "code",
   "execution_count": 8,
   "id": "c36d6408",
   "metadata": {},
   "outputs": [],
   "source": [
    "# Import class definition\n",
    "from data import SQLRepository\n",
    "\n",
    "# Create instance of class\n",
    "repo = SQLRepository(connection=connection)\n",
    "\n",
    "# Does `repo` have a \"connection\" attribute?\n",
    "assert hasattr(repo, \"connection\")\n",
    "\n",
    "# Is the \"connection\" attribute a SQLite `Connection`?\n",
    "assert isinstance(repo.connection, sqlite3.Connection)"
   ]
  },
  {
   "cell_type": "markdown",
   "id": "aca89384",
   "metadata": {},
   "source": [
    "<div class=\"alert alert-info\" role=\"alert\">\n",
    "    <p><b>Tip:</b> You won't be able to run this ☝️ code block until you complete the task below. 👇</p>\n",
    "</div>"
   ]
  },
  {
   "cell_type": "markdown",
   "id": "b4606071",
   "metadata": {},
   "source": [
    "**Task 8.2.7:** Create a definition for your `SQLRepository` class. For now, just complete the `__init__` method. Once you're done, use the code you wrote in the previous task to test it."
   ]
  },
  {
   "cell_type": "markdown",
   "id": "2cbc5cd8",
   "metadata": {},
   "source": [
    "The next method we need for the `SQLRepository` class is one that allows us to store information. In SQL talk, this is generally referred to as **inserting** tables into the database."
   ]
  },
  {
   "cell_type": "markdown",
   "id": "52b12293",
   "metadata": {},
   "source": [
    "**Task 8.2.8:** Add an `insert_table` method to your `SQLRepository` class. As a guide use the assert statements below and the docstring in the `data` module. When you're done, run the cell below to check your work."
   ]
  },
  {
   "cell_type": "code",
   "execution_count": 9,
   "id": "2c4c3788",
   "metadata": {},
   "outputs": [],
   "source": [
    "response = repo.insert_table(table_name=ticker, records=df_suzlon, if_exists=\"replace\")\n",
    "\n",
    "# Does your method return a dictionary?\n",
    "assert isinstance(response, dict)\n",
    "\n",
    "# Are the keys of that dictionary correct?\n",
    "assert sorted(list(response.keys())) == [\"records_inserted\", \"transaction_successful\"]"
   ]
  },
  {
   "cell_type": "markdown",
   "id": "2be347e0",
   "metadata": {},
   "source": [
    "If our method is passing the assert statements, we know it's returning a record of the database transaction, but we still need to check whether the data has actually been added to the database."
   ]
  },
  {
   "cell_type": "markdown",
   "id": "ffb2597e",
   "metadata": {},
   "source": [
    "**Task 8.2.9:** Write a SQL query to get the **first five rows** of the table of Suzlon data you just inserted into the database.\n"
   ]
  },
  {
   "cell_type": "code",
   "execution_count": 13,
   "id": "171a32bb",
   "metadata": {},
   "outputs": [
    {
     "name": "stderr",
     "output_type": "stream",
     "text": [
      "UsageError: Cell magic `%%sql` not found.\n"
     ]
    }
   ],
   "source": [
    "%%sql\n",
    "\n",
    "select * from \"SUZLON.BSE\"\n",
    "LIMIt 5"
   ]
  },
  {
   "cell_type": "markdown",
   "id": "3046a485",
   "metadata": {},
   "source": [
    "We can get **insert** data into our database, but let's not forget that we need to **read** data from it, too. Reading will be a little more complex than inserting, so let's start by writing code in this notebook before we incorporate it into our `SQLRepository` class."
   ]
  },
  {
   "cell_type": "markdown",
   "id": "25767917",
   "metadata": {},
   "source": [
    "**Task 8.2.10:** First, write a SQL query to get **all** the Suzlon data. Then use pandas to extract the data from the database and read it into a DataFrame, names `df_suzlon_test`."
   ]
  },
  {
   "cell_type": "code",
   "execution_count": 14,
   "id": "15093384",
   "metadata": {},
   "outputs": [
    {
     "name": "stdout",
     "output_type": "stream",
     "text": [
      "df_suzlon_test type: <class 'pandas.core.frame.DataFrame'>\n",
      "\n",
      "<class 'pandas.core.frame.DataFrame'>\n",
      "DatetimeIndex: 100 entries, 2023-09-28 to 2023-05-10\n",
      "Data columns (total 5 columns):\n",
      " #   Column  Non-Null Count  Dtype  \n",
      "---  ------  --------------  -----  \n",
      " 0   open    100 non-null    float64\n",
      " 1   high    100 non-null    float64\n",
      " 2   low     100 non-null    float64\n",
      " 3   close   100 non-null    float64\n",
      " 4   volume  100 non-null    float64\n",
      "dtypes: float64(5)\n",
      "memory usage: 4.7 KB\n",
      "None\n"
     ]
    },
    {
     "data": {
      "text/html": [
       "<div>\n",
       "<style scoped>\n",
       "    .dataframe tbody tr th:only-of-type {\n",
       "        vertical-align: middle;\n",
       "    }\n",
       "\n",
       "    .dataframe tbody tr th {\n",
       "        vertical-align: top;\n",
       "    }\n",
       "\n",
       "    .dataframe thead th {\n",
       "        text-align: right;\n",
       "    }\n",
       "</style>\n",
       "<table border=\"1\" class=\"dataframe\">\n",
       "  <thead>\n",
       "    <tr style=\"text-align: right;\">\n",
       "      <th></th>\n",
       "      <th>open</th>\n",
       "      <th>high</th>\n",
       "      <th>low</th>\n",
       "      <th>close</th>\n",
       "      <th>volume</th>\n",
       "    </tr>\n",
       "    <tr>\n",
       "      <th>date</th>\n",
       "      <th></th>\n",
       "      <th></th>\n",
       "      <th></th>\n",
       "      <th></th>\n",
       "      <th></th>\n",
       "    </tr>\n",
       "  </thead>\n",
       "  <tbody>\n",
       "    <tr>\n",
       "      <th>2023-09-28</th>\n",
       "      <td>25.75</td>\n",
       "      <td>26.40</td>\n",
       "      <td>25.5</td>\n",
       "      <td>25.63</td>\n",
       "      <td>19550292.0</td>\n",
       "    </tr>\n",
       "    <tr>\n",
       "      <th>2023-09-27</th>\n",
       "      <td>25.19</td>\n",
       "      <td>25.93</td>\n",
       "      <td>25.1</td>\n",
       "      <td>25.65</td>\n",
       "      <td>14521270.0</td>\n",
       "    </tr>\n",
       "    <tr>\n",
       "      <th>2023-09-26</th>\n",
       "      <td>25.59</td>\n",
       "      <td>26.10</td>\n",
       "      <td>25.0</td>\n",
       "      <td>25.98</td>\n",
       "      <td>22453990.0</td>\n",
       "    </tr>\n",
       "    <tr>\n",
       "      <th>2023-09-25</th>\n",
       "      <td>25.75</td>\n",
       "      <td>26.02</td>\n",
       "      <td>25.1</td>\n",
       "      <td>25.50</td>\n",
       "      <td>14709970.0</td>\n",
       "    </tr>\n",
       "    <tr>\n",
       "      <th>2023-09-22</th>\n",
       "      <td>25.53</td>\n",
       "      <td>25.86</td>\n",
       "      <td>24.5</td>\n",
       "      <td>25.05</td>\n",
       "      <td>10115690.0</td>\n",
       "    </tr>\n",
       "  </tbody>\n",
       "</table>\n",
       "</div>"
      ],
      "text/plain": [
       "             open   high   low  close      volume\n",
       "date                                             \n",
       "2023-09-28  25.75  26.40  25.5  25.63  19550292.0\n",
       "2023-09-27  25.19  25.93  25.1  25.65  14521270.0\n",
       "2023-09-26  25.59  26.10  25.0  25.98  22453990.0\n",
       "2023-09-25  25.75  26.02  25.1  25.50  14709970.0\n",
       "2023-09-22  25.53  25.86  24.5  25.05  10115690.0"
      ]
     },
     "execution_count": 14,
     "metadata": {},
     "output_type": "execute_result"
    }
   ],
   "source": [
    "sql = \"select * from 'SUZLON.BSE'\"\n",
    "df_suzlon_test = pd.read_sql(\n",
    "    sql=sql,con=connection, parse_dates=[\"date\"], index_col = \"date\"\n",
    ")\n",
    "\n",
    "print(\"df_suzlon_test type:\", type(df_suzlon_test))\n",
    "print()\n",
    "print(df_suzlon_test.info())\n",
    "df_suzlon_test.head()"
   ]
  },
  {
   "cell_type": "markdown",
   "id": "2f6aa98e",
   "metadata": {},
   "source": [
    "Now that we know how to read a table from our database, let's turn our code into a proper function. But since we're doing backwards designs, we need to start with our tests."
   ]
  },
  {
   "cell_type": "markdown",
   "id": "6e61e562",
   "metadata": {},
   "source": [
    "**Task 8.2.11:** <a id=\"task-8211\"></a>Complete the assert statements below to test your `read_table` function. Use the comments as a guide."
   ]
  },
  {
   "cell_type": "code",
   "execution_count": 15,
   "id": "d42f6ce1",
   "metadata": {},
   "outputs": [
    {
     "name": "stdout",
     "output_type": "stream",
     "text": [
      "df_suzlon shape: (100, 5)\n",
      "\n",
      "<class 'pandas.core.frame.DataFrame'>\n",
      "DatetimeIndex: 100 entries, 2023-09-28 to 2023-05-10\n",
      "Data columns (total 5 columns):\n",
      " #   Column  Non-Null Count  Dtype  \n",
      "---  ------  --------------  -----  \n",
      " 0   open    100 non-null    float64\n",
      " 1   high    100 non-null    float64\n",
      " 2   low     100 non-null    float64\n",
      " 3   close   100 non-null    float64\n",
      " 4   volume  100 non-null    float64\n",
      "dtypes: float64(5)\n",
      "memory usage: 4.7 KB\n",
      "None\n"
     ]
    },
    {
     "data": {
      "text/html": [
       "<div>\n",
       "<style scoped>\n",
       "    .dataframe tbody tr th:only-of-type {\n",
       "        vertical-align: middle;\n",
       "    }\n",
       "\n",
       "    .dataframe tbody tr th {\n",
       "        vertical-align: top;\n",
       "    }\n",
       "\n",
       "    .dataframe thead th {\n",
       "        text-align: right;\n",
       "    }\n",
       "</style>\n",
       "<table border=\"1\" class=\"dataframe\">\n",
       "  <thead>\n",
       "    <tr style=\"text-align: right;\">\n",
       "      <th></th>\n",
       "      <th>open</th>\n",
       "      <th>high</th>\n",
       "      <th>low</th>\n",
       "      <th>close</th>\n",
       "      <th>volume</th>\n",
       "    </tr>\n",
       "    <tr>\n",
       "      <th>date</th>\n",
       "      <th></th>\n",
       "      <th></th>\n",
       "      <th></th>\n",
       "      <th></th>\n",
       "      <th></th>\n",
       "    </tr>\n",
       "  </thead>\n",
       "  <tbody>\n",
       "    <tr>\n",
       "      <th>2023-09-28</th>\n",
       "      <td>25.75</td>\n",
       "      <td>26.40</td>\n",
       "      <td>25.5</td>\n",
       "      <td>25.63</td>\n",
       "      <td>19550292.0</td>\n",
       "    </tr>\n",
       "    <tr>\n",
       "      <th>2023-09-27</th>\n",
       "      <td>25.19</td>\n",
       "      <td>25.93</td>\n",
       "      <td>25.1</td>\n",
       "      <td>25.65</td>\n",
       "      <td>14521270.0</td>\n",
       "    </tr>\n",
       "    <tr>\n",
       "      <th>2023-09-26</th>\n",
       "      <td>25.59</td>\n",
       "      <td>26.10</td>\n",
       "      <td>25.0</td>\n",
       "      <td>25.98</td>\n",
       "      <td>22453990.0</td>\n",
       "    </tr>\n",
       "    <tr>\n",
       "      <th>2023-09-25</th>\n",
       "      <td>25.75</td>\n",
       "      <td>26.02</td>\n",
       "      <td>25.1</td>\n",
       "      <td>25.50</td>\n",
       "      <td>14709970.0</td>\n",
       "    </tr>\n",
       "    <tr>\n",
       "      <th>2023-09-22</th>\n",
       "      <td>25.53</td>\n",
       "      <td>25.86</td>\n",
       "      <td>24.5</td>\n",
       "      <td>25.05</td>\n",
       "      <td>10115690.0</td>\n",
       "    </tr>\n",
       "  </tbody>\n",
       "</table>\n",
       "</div>"
      ],
      "text/plain": [
       "             open   high   low  close      volume\n",
       "date                                             \n",
       "2023-09-28  25.75  26.40  25.5  25.63  19550292.0\n",
       "2023-09-27  25.19  25.93  25.1  25.65  14521270.0\n",
       "2023-09-26  25.59  26.10  25.0  25.98  22453990.0\n",
       "2023-09-25  25.75  26.02  25.1  25.50  14709970.0\n",
       "2023-09-22  25.53  25.86  24.5  25.05  10115690.0"
      ]
     },
     "execution_count": 15,
     "metadata": {},
     "output_type": "execute_result"
    }
   ],
   "source": [
    "# Assign `read_table` output to `df_suzlon`\n",
    "df_suzlon = repo.read_table(table_name=\"SUZLON.BSE\", limit=2500)  # noQA F821\n",
    "\n",
    "# Is `df_suzlon` a DataFrame?\n",
    "assert isinstance(df_suzlon,pd.DataFrame)\n",
    "\n",
    "# Does it have a `DatetimeIndex`?\n",
    "assert isinstance(df_suzlon.index,pd.DatetimeIndex)\n",
    "\n",
    "# Is the index named \"date\"?\n",
    "assert df_suzlon.index.name == \"date\"\n",
    "\n",
    "# Does it have 2,500 rows and 5 columns?\n",
    "\n",
    "assert df_suzlon.shape == (100,5)\n",
    "\n",
    "# Are the column names correct?\n",
    "assert df_suzlon.columns.to_list() == ['open', 'high', 'low', 'close', 'volume']\n",
    "\n",
    "# Are the column data types correct?\n",
    "assert all(df_suzlon.dtypes == float)\n",
    "\n",
    "# Print `df_suzlon` info\n",
    "print(\"df_suzlon shape:\", df_suzlon.shape)\n",
    "print()\n",
    "print(df_suzlon.info())\n",
    "df_suzlon.head()"
   ]
  },
  {
   "cell_type": "markdown",
   "id": "b91fe672",
   "metadata": {},
   "source": [
    "<div class=\"alert alert-info\" role=\"alert\">\n",
    "    <p><b>Tip:</b> You won't be able to run this ☝️ code block until you complete the task below. 👇</p>\n",
    "</div>"
   ]
  },
  {
   "cell_type": "markdown",
   "id": "54927978",
   "metadata": {},
   "source": [
    "**Task 8.2.12:** Expand on the code you're written above to complete the `read_table` function below. Use the docstring as a guide."
   ]
  },
  {
   "cell_type": "markdown",
   "id": "49a4c2aa",
   "metadata": {},
   "source": [
    "<div class=\"alert alert-info\" role=\"alert\">\n",
    "    <p><b>Tip:</b> Remember that we stored our data sorted <b>descending</b> by date. It'll definitely make our <code>read_table</code> easier to implement!</p>\n",
    "</div>"
   ]
  },
  {
   "cell_type": "code",
   "execution_count": 16,
   "id": "e79fa708",
   "metadata": {},
   "outputs": [],
   "source": [
    "def read_table(table_name,limit=None):\n",
    "    \n",
    "\n",
    "    \"\"\"Read table from database.\n",
    "\n",
    "    Parameters\n",
    "    ----------\n",
    "    table_name : str\n",
    "        Name of table in SQLite database.\n",
    "    limit : int, None, optional\n",
    "        Number of most recent records to retrieve. If `None`, all\n",
    "        records are retrieved. By default, `None`.\n",
    "\n",
    "    Returns\n",
    "    -------\n",
    "    pd.DataFrame\n",
    "        Index is DatetimeIndex \"date\". Columns are 'open', 'high',\n",
    "        'low', 'close', and 'volume'. All columns are numeric.\n",
    "    \"\"\"\n",
    "    # Create SQL query (with optional limit)\n",
    "    if limit:\n",
    "        sql = f\"SELECT * FROM '{table_name}' LIMIT {limit}\"\n",
    "    else:\n",
    "        sql = f\"SELECT * FROM '{table_name}'\"\n",
    "    \n",
    "\n",
    "    # Retrieve data, read into DataFrame\n",
    "    df = pd.read_sql(\n",
    "        sql=sql,con=connection, parse_dates=[\"date\"], index_col = \"date\"\n",
    "        )\n",
    "\n",
    "    # Return DataFrame\n",
    "    return df"
   ]
  },
  {
   "cell_type": "markdown",
   "id": "677ca70a",
   "metadata": {},
   "source": [
    "**Task 8.2.13:** Turn the `read_table` function into a method for your `SQLRepository` class."
   ]
  },
  {
   "cell_type": "markdown",
   "id": "bfc15c07",
   "metadata": {},
   "source": [
    "**Task 8.2.14:** Return to task <a href=\"#task-8211\">Task 8.2.11</a> and change the code so that you're testing your class method instead of your notebook function."
   ]
  },
  {
   "cell_type": "markdown",
   "id": "069a7a7b",
   "metadata": {},
   "source": [
    "Excellent! We have everything we need to get data from AlphaVantage, save that data in our database, and access it later on. Now it's time to do a little exploratory analysis to compare the stocks of the two companies we have data for. "
   ]
  },
  {
   "cell_type": "markdown",
   "id": "a261663a",
   "metadata": {},
   "source": [
    "# Comparing Stock Returns\n",
    "We already have the data for Suzlon Energy in our database, but we need to add the data for Ambuja Cement before we can compare the two stocks."
   ]
  },
  {
   "cell_type": "markdown",
   "id": "44f1bf3a",
   "metadata": {},
   "source": [
    "**Task 8.2.15:** Use the instances of the `AlphaVantageAPI` and `SQLRepository` classes you created in this lesson (`av` and `repo`, respectively) to get the stock data for Ambuja Cement and read it into the database."
   ]
  },
  {
   "cell_type": "code",
   "execution_count": 17,
   "id": "166fa4fd",
   "metadata": {},
   "outputs": [
    {
     "data": {
      "text/plain": [
       "{'records_inserted': None, 'transaction_successful': True}"
      ]
     },
     "execution_count": 17,
     "metadata": {},
     "output_type": "execute_result"
    }
   ],
   "source": [
    "ticker = \"AMBUJACEM.BSE\"\n",
    "\n",
    "# Get Ambuja data using `av`\n",
    "ambuja_records = av.get_daily(ticker=ticker)\n",
    "\n",
    "# Insert `ambuja_records` database using `repo`\n",
    "response = repo.insert_table(table_name = ticker,records=ambuja_records,if_exists=\"replace\" )\n",
    "\n",
    "response"
   ]
  },
  {
   "cell_type": "markdown",
   "id": "8dfc596f",
   "metadata": {},
   "source": [
    "**Task 8.2.16:** Using the `read_table` method you've added to your `SQLRepository`, extract the most recent 2,500 rows of data for Ambuja Cement from the database and assign the result to `df_ambuja`."
   ]
  },
  {
   "cell_type": "code",
   "execution_count": 18,
   "id": "0fdc42bb",
   "metadata": {},
   "outputs": [
    {
     "name": "stdout",
     "output_type": "stream",
     "text": [
      "df_ambuja type: <class 'pandas.core.frame.DataFrame'>\n",
      "df_ambuja shape: (100, 5)\n"
     ]
    },
    {
     "data": {
      "text/html": [
       "<div>\n",
       "<style scoped>\n",
       "    .dataframe tbody tr th:only-of-type {\n",
       "        vertical-align: middle;\n",
       "    }\n",
       "\n",
       "    .dataframe tbody tr th {\n",
       "        vertical-align: top;\n",
       "    }\n",
       "\n",
       "    .dataframe thead th {\n",
       "        text-align: right;\n",
       "    }\n",
       "</style>\n",
       "<table border=\"1\" class=\"dataframe\">\n",
       "  <thead>\n",
       "    <tr style=\"text-align: right;\">\n",
       "      <th></th>\n",
       "      <th>open</th>\n",
       "      <th>high</th>\n",
       "      <th>low</th>\n",
       "      <th>close</th>\n",
       "      <th>volume</th>\n",
       "    </tr>\n",
       "    <tr>\n",
       "      <th>date</th>\n",
       "      <th></th>\n",
       "      <th></th>\n",
       "      <th></th>\n",
       "      <th></th>\n",
       "      <th></th>\n",
       "    </tr>\n",
       "  </thead>\n",
       "  <tbody>\n",
       "    <tr>\n",
       "      <th>2023-09-28</th>\n",
       "      <td>430.50</td>\n",
       "      <td>431.45</td>\n",
       "      <td>418.50</td>\n",
       "      <td>420.10</td>\n",
       "      <td>96569.0</td>\n",
       "    </tr>\n",
       "    <tr>\n",
       "      <th>2023-09-27</th>\n",
       "      <td>427.40</td>\n",
       "      <td>431.35</td>\n",
       "      <td>426.00</td>\n",
       "      <td>430.50</td>\n",
       "      <td>41243.0</td>\n",
       "    </tr>\n",
       "    <tr>\n",
       "      <th>2023-09-26</th>\n",
       "      <td>423.15</td>\n",
       "      <td>433.80</td>\n",
       "      <td>422.55</td>\n",
       "      <td>429.65</td>\n",
       "      <td>117821.0</td>\n",
       "    </tr>\n",
       "    <tr>\n",
       "      <th>2023-09-25</th>\n",
       "      <td>420.95</td>\n",
       "      <td>425.65</td>\n",
       "      <td>414.90</td>\n",
       "      <td>422.60</td>\n",
       "      <td>94261.0</td>\n",
       "    </tr>\n",
       "    <tr>\n",
       "      <th>2023-09-22</th>\n",
       "      <td>425.40</td>\n",
       "      <td>428.50</td>\n",
       "      <td>418.25</td>\n",
       "      <td>420.35</td>\n",
       "      <td>84318.0</td>\n",
       "    </tr>\n",
       "  </tbody>\n",
       "</table>\n",
       "</div>"
      ],
      "text/plain": [
       "              open    high     low   close    volume\n",
       "date                                                \n",
       "2023-09-28  430.50  431.45  418.50  420.10   96569.0\n",
       "2023-09-27  427.40  431.35  426.00  430.50   41243.0\n",
       "2023-09-26  423.15  433.80  422.55  429.65  117821.0\n",
       "2023-09-25  420.95  425.65  414.90  422.60   94261.0\n",
       "2023-09-22  425.40  428.50  418.25  420.35   84318.0"
      ]
     },
     "execution_count": 18,
     "metadata": {},
     "output_type": "execute_result"
    }
   ],
   "source": [
    "ticker = \"AMBUJACEM.BSE\"\n",
    "df_ambuja = repo.read_table(table_name=ticker,limit=2500)\n",
    "\n",
    "print(\"df_ambuja type:\", type(df_ambuja))\n",
    "print(\"df_ambuja shape:\", df_ambuja.shape)\n",
    "df_ambuja.head()"
   ]
  },
  {
   "cell_type": "markdown",
   "id": "99201de5",
   "metadata": {},
   "source": [
    "We've spent a lot of time so far looking at this data, but what does it actually represent? It turns out the stock market is a lot like any other market: people buy and sell goods. The prices of those goods can go up or down depending on factors like supply and demand. In the case of a stock market, the goods being sold are stocks (also called equities or securities), which represent an ownership stake in a corporation.\n",
    "\n",
    "During each trading day, the price of a stock will change, so when we're looking at whether a stock might be a good investment, we look at four types of numbers: open, high, low, close, volume. **Open** is exactly what it sounds like: the selling price of a share when the market opens for the day. Similarly, **close** is the selling price of a share when the market closes at the end of the day, and **high** and **low** are the respective maximum and minimum prices of a share over the course of the day. **Volume** is the number of shares of a given stock that have been bought and sold that day. Generally speaking, a firm whose shares have seen a high volume of trading will see more price variation of the course of the day than a firm whose shares have been more lightly traded.\n",
    "\n",
    "Let's visualize how the price of Ambuja Cement changes over the last decade.m"
   ]
  },
  {
   "cell_type": "markdown",
   "id": "91f121f2",
   "metadata": {},
   "source": [
    "**Task 8.2.17:** Plot the closing price of `df_ambuja`. Be sure to label your axes and include a legend."
   ]
  },
  {
   "cell_type": "code",
   "execution_count": 20,
   "id": "538f3340",
   "metadata": {},
   "outputs": [
    {
     "data": {
      "text/plain": [
       "<matplotlib.legend.Legend at 0x284a1f235e0>"
      ]
     },
     "execution_count": 20,
     "metadata": {},
     "output_type": "execute_result"
    },
    {
     "data": {
      "image/png": "[encoded data removed]",
      "text/plain": [
       "<Figure size 1080x432 with 1 Axes>"
      ]
     },
     "metadata": {
      "needs_background": "light"
     },
     "output_type": "display_data"
    }
   ],
   "source": [
    "fig, ax = plt.subplots(figsize=(15, 6))\n",
    "# Plot `df_ambuja` closing price\n",
    "df_ambuja[\"close\"].plot(ax=ax, label=\"AMBUJACEM\", color=\"orange\")\n",
    "\n",
    "# Label axes\n",
    "plt.xlabel(\"Date\")\n",
    "plt.ylabel(\"closing price\")\n",
    "\n",
    "\n",
    "# Add legend\n",
    "plt.legend()"
   ]
  },
  {
   "cell_type": "markdown",
   "id": "692f46b0",
   "metadata": {},
   "source": [
    "Let's add the closing price of Suzlon to our graph so we can compare the two."
   ]
  },
  {
   "cell_type": "markdown",
   "id": "b905894b",
   "metadata": {},
   "source": [
    "**Task 8.2.18:** Create a plot that shows the closing prices of `df_suzlon` and `df_ambuja`. Again, label your axes and include a legend."
   ]
  },
  {
   "cell_type": "code",
   "execution_count": 21,
   "id": "558a8a4f",
   "metadata": {},
   "outputs": [
    {
     "data": {
      "text/plain": [
       "<matplotlib.legend.Legend at 0x284a51115b0>"
      ]
     },
     "execution_count": 21,
     "metadata": {},
     "output_type": "execute_result"
    },
    {
     "data": {
      "image/png": "[encoded data removed]",
      "text/plain": [
       "<Figure size 1080x432 with 1 Axes>"
      ]
     },
     "metadata": {
      "needs_background": "light"
     },
     "output_type": "display_data"
    }
   ],
   "source": [
    "fig, ax = plt.subplots(figsize=(15, 6))\n",
    "# Plot `df_suzlon` and `df_ambuja`\n",
    "df_suzlon[\"close\"].plot(ax=ax, label=\"SUZLON\")\n",
    "df_ambuja[\"close\"].plot(ax=ax, label=\"AMBUJACEM\", color=\"orange\")\n",
    "\n",
    "# Label axes\n",
    "plt.xlabel(\"Date\")\n",
    "plt.ylabel(\"closing price\")\n",
    "\n",
    "\n",
    "# Add legend\n",
    "plt.legend()\n"
   ]
  },
  {
   "cell_type": "markdown",
   "id": "b5bae321",
   "metadata": {},
   "source": [
    "Looking at this plot, we might conclude that Ambuja Cement is a \"better\" stock than Suzlon energy because its price is higher. But price is just one factor that an investor must consider when creating an investment strategy. What is definitely true is that it's hard to do a head-to-head comparison of these two stocks because there's such a large price difference.\n",
    "\n",
    "One way in which investors compare stocks is by looking at their **returns** instead. A return is the change in value in an investment, represented as a percentage. So let's look at the daily returns for our two stocks."
   ]
  },
  {
   "cell_type": "markdown",
   "id": "773e6d4d",
   "metadata": {},
   "source": [
    "**Task 8.2.19:** Add a `\"return\"` column to `df_ambuja` that shows the percentage change in the `\"close\"` column from one day to the next."
   ]
  },
  {
   "cell_type": "markdown",
   "id": "9def8ad3",
   "metadata": {},
   "source": [
    "<div class=\"alert alert-info\" role=\"alert\">\n",
    "    <p><b>Tip:</b> Our two DataFrames are sorted <b>descending</b> by date, but you'll need to make sure they're sorted <b>ascending</b> in order to calculate their returns.</p>\n",
    "</div>"
   ]
  },
  {
   "cell_type": "code",
   "execution_count": 23,
   "id": "bab6d6c2",
   "metadata": {},
   "outputs": [
    {
     "name": "stdout",
     "output_type": "stream",
     "text": [
      "df_ambuja shape: (100, 6)\n",
      "<class 'pandas.core.frame.DataFrame'>\n",
      "DatetimeIndex: 100 entries, 2023-05-09 to 2023-09-28\n",
      "Data columns (total 6 columns):\n",
      " #   Column  Non-Null Count  Dtype  \n",
      "---  ------  --------------  -----  \n",
      " 0   open    100 non-null    float64\n",
      " 1   high    100 non-null    float64\n",
      " 2   low     100 non-null    float64\n",
      " 3   close   100 non-null    float64\n",
      " 4   volume  100 non-null    float64\n",
      " 5   return  99 non-null     float64\n",
      "dtypes: float64(6)\n",
      "memory usage: 5.5 KB\n",
      "None\n"
     ]
    },
    {
     "data": {
      "text/html": [
       "<div>\n",
       "<style scoped>\n",
       "    .dataframe tbody tr th:only-of-type {\n",
       "        vertical-align: middle;\n",
       "    }\n",
       "\n",
       "    .dataframe tbody tr th {\n",
       "        vertical-align: top;\n",
       "    }\n",
       "\n",
       "    .dataframe thead th {\n",
       "        text-align: right;\n",
       "    }\n",
       "</style>\n",
       "<table border=\"1\" class=\"dataframe\">\n",
       "  <thead>\n",
       "    <tr style=\"text-align: right;\">\n",
       "      <th></th>\n",
       "      <th>open</th>\n",
       "      <th>high</th>\n",
       "      <th>low</th>\n",
       "      <th>close</th>\n",
       "      <th>volume</th>\n",
       "      <th>return</th>\n",
       "    </tr>\n",
       "    <tr>\n",
       "      <th>date</th>\n",
       "      <th></th>\n",
       "      <th></th>\n",
       "      <th></th>\n",
       "      <th></th>\n",
       "      <th></th>\n",
       "      <th></th>\n",
       "    </tr>\n",
       "  </thead>\n",
       "  <tbody>\n",
       "    <tr>\n",
       "      <th>2023-05-09</th>\n",
       "      <td>406.60</td>\n",
       "      <td>412.30</td>\n",
       "      <td>403.25</td>\n",
       "      <td>405.55</td>\n",
       "      <td>423787.0</td>\n",
       "      <td>NaN</td>\n",
       "    </tr>\n",
       "    <tr>\n",
       "      <th>2023-05-10</th>\n",
       "      <td>407.00</td>\n",
       "      <td>409.20</td>\n",
       "      <td>402.55</td>\n",
       "      <td>408.10</td>\n",
       "      <td>102748.0</td>\n",
       "      <td>0.628776</td>\n",
       "    </tr>\n",
       "    <tr>\n",
       "      <th>2023-05-11</th>\n",
       "      <td>409.05</td>\n",
       "      <td>415.00</td>\n",
       "      <td>406.25</td>\n",
       "      <td>412.10</td>\n",
       "      <td>179565.0</td>\n",
       "      <td>0.980152</td>\n",
       "    </tr>\n",
       "    <tr>\n",
       "      <th>2023-05-12</th>\n",
       "      <td>410.10</td>\n",
       "      <td>414.85</td>\n",
       "      <td>407.50</td>\n",
       "      <td>410.00</td>\n",
       "      <td>150594.0</td>\n",
       "      <td>-0.509585</td>\n",
       "    </tr>\n",
       "    <tr>\n",
       "      <th>2023-05-15</th>\n",
       "      <td>409.10</td>\n",
       "      <td>410.80</td>\n",
       "      <td>403.00</td>\n",
       "      <td>406.75</td>\n",
       "      <td>243622.0</td>\n",
       "      <td>-0.792683</td>\n",
       "    </tr>\n",
       "  </tbody>\n",
       "</table>\n",
       "</div>"
      ],
      "text/plain": [
       "              open    high     low   close    volume    return\n",
       "date                                                          \n",
       "2023-05-09  406.60  412.30  403.25  405.55  423787.0       NaN\n",
       "2023-05-10  407.00  409.20  402.55  408.10  102748.0  0.628776\n",
       "2023-05-11  409.05  415.00  406.25  412.10  179565.0  0.980152\n",
       "2023-05-12  410.10  414.85  407.50  410.00  150594.0 -0.509585\n",
       "2023-05-15  409.10  410.80  403.00  406.75  243622.0 -0.792683"
      ]
     },
     "execution_count": 23,
     "metadata": {},
     "output_type": "execute_result"
    }
   ],
   "source": [
    "# Sort DataFrame ascending by date\n",
    "df_ambuja.sort_index(ascending=True, inplace=True)\n",
    "\n",
    "# Create \"return\" column\n",
    "df_ambuja[\"return\"] = df_ambuja[\"close\"].pct_change()*100\n",
    "\n",
    "print(\"df_ambuja shape:\", df_ambuja.shape)\n",
    "print(df_ambuja.info())\n",
    "df_ambuja.head()"
   ]
  },
  {
   "cell_type": "markdown",
   "id": "0ad8da75",
   "metadata": {},
   "source": [
    "**Task 8.2.20:** Add a `\"return\"` column to `df_suzlon"
   ]
  },
  {
   "cell_type": "code",
   "execution_count": 24,
   "id": "2fa39e72",
   "metadata": {},
   "outputs": [
    {
     "name": "stdout",
     "output_type": "stream",
     "text": [
      "df_suzlon shape: (100, 6)\n",
      "<class 'pandas.core.frame.DataFrame'>\n",
      "DatetimeIndex: 100 entries, 2023-05-10 to 2023-09-28\n",
      "Data columns (total 6 columns):\n",
      " #   Column  Non-Null Count  Dtype  \n",
      "---  ------  --------------  -----  \n",
      " 0   open    100 non-null    float64\n",
      " 1   high    100 non-null    float64\n",
      " 2   low     100 non-null    float64\n",
      " 3   close   100 non-null    float64\n",
      " 4   volume  100 non-null    float64\n",
      " 5   return  99 non-null     float64\n",
      "dtypes: float64(6)\n",
      "memory usage: 5.5 KB\n",
      "None\n"
     ]
    },
    {
     "data": {
      "text/html": [
       "<div>\n",
       "<style scoped>\n",
       "    .dataframe tbody tr th:only-of-type {\n",
       "        vertical-align: middle;\n",
       "    }\n",
       "\n",
       "    .dataframe tbody tr th {\n",
       "        vertical-align: top;\n",
       "    }\n",
       "\n",
       "    .dataframe thead th {\n",
       "        text-align: right;\n",
       "    }\n",
       "</style>\n",
       "<table border=\"1\" class=\"dataframe\">\n",
       "  <thead>\n",
       "    <tr style=\"text-align: right;\">\n",
       "      <th></th>\n",
       "      <th>open</th>\n",
       "      <th>high</th>\n",
       "      <th>low</th>\n",
       "      <th>close</th>\n",
       "      <th>volume</th>\n",
       "      <th>return</th>\n",
       "    </tr>\n",
       "    <tr>\n",
       "      <th>date</th>\n",
       "      <th></th>\n",
       "      <th></th>\n",
       "      <th></th>\n",
       "      <th></th>\n",
       "      <th></th>\n",
       "      <th></th>\n",
       "    </tr>\n",
       "  </thead>\n",
       "  <tbody>\n",
       "    <tr>\n",
       "      <th>2023-05-10</th>\n",
       "      <td>8.40</td>\n",
       "      <td>8.45</td>\n",
       "      <td>8.22</td>\n",
       "      <td>8.38</td>\n",
       "      <td>14444902.0</td>\n",
       "      <td>NaN</td>\n",
       "    </tr>\n",
       "    <tr>\n",
       "      <th>2023-05-11</th>\n",
       "      <td>8.38</td>\n",
       "      <td>8.47</td>\n",
       "      <td>8.28</td>\n",
       "      <td>8.33</td>\n",
       "      <td>14821269.0</td>\n",
       "      <td>-0.596659</td>\n",
       "    </tr>\n",
       "    <tr>\n",
       "      <th>2023-05-12</th>\n",
       "      <td>8.36</td>\n",
       "      <td>8.40</td>\n",
       "      <td>8.21</td>\n",
       "      <td>8.24</td>\n",
       "      <td>12964748.0</td>\n",
       "      <td>-1.080432</td>\n",
       "    </tr>\n",
       "    <tr>\n",
       "      <th>2023-05-15</th>\n",
       "      <td>8.27</td>\n",
       "      <td>8.35</td>\n",
       "      <td>8.20</td>\n",
       "      <td>8.24</td>\n",
       "      <td>16903221.0</td>\n",
       "      <td>0.000000</td>\n",
       "    </tr>\n",
       "    <tr>\n",
       "      <th>2023-05-16</th>\n",
       "      <td>8.27</td>\n",
       "      <td>8.32</td>\n",
       "      <td>8.19</td>\n",
       "      <td>8.22</td>\n",
       "      <td>15089860.0</td>\n",
       "      <td>-0.242718</td>\n",
       "    </tr>\n",
       "  </tbody>\n",
       "</table>\n",
       "</div>"
      ],
      "text/plain": [
       "            open  high   low  close      volume    return\n",
       "date                                                     \n",
       "2023-05-10  8.40  8.45  8.22   8.38  14444902.0       NaN\n",
       "2023-05-11  8.38  8.47  8.28   8.33  14821269.0 -0.596659\n",
       "2023-05-12  8.36  8.40  8.21   8.24  12964748.0 -1.080432\n",
       "2023-05-15  8.27  8.35  8.20   8.24  16903221.0  0.000000\n",
       "2023-05-16  8.27  8.32  8.19   8.22  15089860.0 -0.242718"
      ]
     },
     "execution_count": 24,
     "metadata": {},
     "output_type": "execute_result"
    }
   ],
   "source": [
    "# Sort DataFrame ascending by date\n",
    "df_suzlon.sort_index(ascending=True, inplace=True)\n",
    "\n",
    "# Create \"return\" column\n",
    "df_suzlon[\"return\"] = df_suzlon[\"close\"].pct_change()*100\n",
    "\n",
    "print(\"df_suzlon shape:\", df_suzlon.shape)\n",
    "print(df_suzlon.info())\n",
    "df_suzlon.head()"
   ]
  },
  {
   "cell_type": "markdown",
   "id": "c89462bc",
   "metadata": {},
   "source": [
    "**Task 8.2.21:** Plot the returns for `df_suzlon` and `df_ambuja`. Be sure to label your axes and use legend."
   ]
  },
  {
   "cell_type": "code",
   "execution_count": 25,
   "id": "1c9cd892",
   "metadata": {},
   "outputs": [
    {
     "data": {
      "text/plain": [
       "<matplotlib.legend.Legend at 0x284a5499b80>"
      ]
     },
     "execution_count": 25,
     "metadata": {},
     "output_type": "execute_result"
    },
    {
     "data": {
      "image/png": "[encoded data removed]",
      "text/plain": [
       "<Figure size 1080x432 with 1 Axes>"
      ]
     },
     "metadata": {
      "needs_background": "light"
     },
     "output_type": "display_data"
    }
   ],
   "source": [
    "fig, ax = plt.subplots(figsize=(15, 6))\n",
    "# Plot `df_suzlon` and `df_ambuja`\n",
    "df_suzlon[\"return\"].plot(ax=ax, label=\"SUZLON\")\n",
    "df_ambuja[\"return\"].plot(ax=ax, label=\"AMBUJACEM\", color=\"orange\")\n",
    "\n",
    "# Label axes\n",
    "plt.xlabel(\"Date\")\n",
    "plt.ylabel(\"Daily_return\")\n",
    "\n",
    "\n",
    "# Add legend\n",
    "plt.legend()\n"
   ]
  },
  {
   "cell_type": "markdown",
   "id": "c3c86720",
   "metadata": {},
   "source": [
    "Success! By representing returns as a percentage, we're able to compare two stocks that have very different prices. But what is this visualization telling us? We can see that the returns for Suzlon have a wider spread. We see big gains and big losses. In contrast, the spread for Ambuja is narrower, meaning that the price doesn't fluctuate as much. \n",
    "\n",
    "Another name for this day-to-day fluctuation in returns is called [**volatility**](https://en.wikipedia.org/wiki/Volatility_(finance)), which is another important factor for investors. So in the next lesson, we'll learn more about volatility and then build a time series model to predict it."
   ]
  },
  {
   "cell_type": "code",
   "execution_count": null,
   "id": "9a0e9b41",
   "metadata": {},
   "outputs": [],
   "source": []
  }
 ],
 "metadata": {
  "kernelspec": {
   "display_name": "Python 3",
   "language": "python",
   "name": "python3"
  },
  "language_info": {
   "codemirror_mode": {
    "name": "ipython",
    "version": 3
   },
   "file_extension": ".py",
   "mimetype": "text/x-python",
   "name": "python",
   "nbconvert_exporter": "python",
   "pygments_lexer": "ipython3",
   "version": "3.8.8"
  }
 },
 "nbformat": 4,
 "nbformat_minor": 5
}
