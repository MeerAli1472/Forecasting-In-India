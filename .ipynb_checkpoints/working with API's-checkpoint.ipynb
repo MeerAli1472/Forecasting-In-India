{
 "cells": [
  {
   "cell_type": "markdown",
   "id": "beee8fd6",
   "metadata": {},
   "source": [
    "# Getting data from APIs"
   ]
  },
  {
   "cell_type": "markdown",
   "id": "178a2286",
   "metadata": {},
   "source": [
    "You can't build a model without data, right? In previous projects, we've worked with data stored in files (like a CSV) or databases (like MongoDB or SQL). In this project, we're going to get our data from a web server using an API. So in this lesson, we'll learn what an API is and how to extract data from one. We'll also work on transforming our data into a manageable format. Let's get to it!"
   ]
  },
  {
   "cell_type": "code",
   "execution_count": 1,
   "id": "58bde7fb",
   "metadata": {},
   "outputs": [],
   "source": [
    "import pandas as pd\n",
    "import requests"
   ]
  },
  {
   "cell_type": "markdown",
   "id": "e89d2911",
   "metadata": {},
   "source": [
    "# Accessing APIs Through a URL"
   ]
  },
  {
   "cell_type": "markdown",
   "id": "c1b3c029",
   "metadata": {},
   "source": [
    "In this lesson, we'll extract stock market information from the [AlphaVantage](https://alphavantage.co/) API. To get a sense of how an API works, consider the URL below. Take a moment to read the text of the link itself, then click on it and examine the data that appears in your browser. What's the format of the data? What data is included? How is it organized? "
   ]
  },
  {
   "cell_type": "markdown",
   "id": "a8ebc4b1",
   "metadata": {},
   "source": [
    "https://www.alphavantage.co/query?function=TIME_SERIES_DAILY&symbol=IBM&apikey=demo"
   ]
  },
  {
   "cell_type": "markdown",
   "id": "6f83d182",
   "metadata": {},
   "source": [
    "Notice that this URL has several components. Let's break them down one-by-one."
   ]
  },
  {
   "cell_type": "markdown",
   "id": "45eb30d8",
   "metadata": {},
   "source": [
    "Notice that this URL has several components. Let's break them down one-by-one.\n",
    "\n",
    "| URL | Component |\n",
    "|:--- | :-------- |\n",
    "| `https://www.alphavantage.co` | This is the **hostname** or **base URL**. It is the web address for the server where we can get our stock data. |\n",
    "| `/query` | This is the **path**. Most APIs have lots of different operations they can do. The path is the name of the particular operation we want to access. |\n",
    "| `?` |  This question mark denotes that everything that follows in the URL is a **parameter**. Each parameter is separated by a `&` character. These parameters provide additional information that will change the operation's behavior. This is similar to the way we pass **arguments** into functions in Python. |\n",
    "| `function=TIME_SERIES_DAILY` | Our first parameter uses the `function` keyword. The value is `TIME_SERIES_DAILY`. In this case, we're asking for **daily** stock data. |\n",
    "| `symbol=IBM` | Our second parameter uses the `symbol` keyword. So we're asking for a data on a stock whose [**ticker symbol**](https://en.wikipedia.org/wiki/Ticker_symbol) is `IBM`. |\n",
    "| `apikey=demo` | Much in the same way you need a password to access some websites, an **API key** or **API token** is the password that you'll use to access the API. |"
   ]
  },
  {
   "cell_type": "markdown",
   "id": "06233b5d",
   "metadata": {},
   "source": [
    "Now that we have a sense of the components of URL that gets information from AlphaVantage, let's create our own for a different stock."
   ]
  },
  {
   "cell_type": "markdown",
   "id": "fe6ce427",
   "metadata": {},
   "source": [
    "**Task 8.1.1:** Using the URL above as a model, create a new URL to get the data for [Ambuja Cement](https://www.ambujacement.com/). The ticker symbol for this company is: `\"AMBUJACEM.BSE\"`."
   ]
  },
  {
   "cell_type": "code",
   "execution_count": 2,
   "id": "6c8cf334",
   "metadata": {},
   "outputs": [
    {
     "name": "stdout",
     "output_type": "stream",
     "text": [
      "url type: <class 'str'>\n"
     ]
    },
    {
     "data": {
      "text/plain": [
       "'https://www.alphavantage.co/query?function=TIME_SERIES_DAILY&symbol=AMBUJACEM.BSE&apikey=demo'"
      ]
     },
     "execution_count": 2,
     "metadata": {},
     "output_type": "execute_result"
    }
   ],
   "source": [
    "url = (\n",
    "    \"https://www.alphavantage.co/query?\"\n",
    "    \"function=TIME_SERIES_DAILY&\"\n",
    "    \"symbol=AMBUJACEM.BSE&\"\n",
    "    \"apikey=demo\"\n",
    ")\n",
    "\n",
    "print(\"url type:\", type(url))\n",
    "url"
   ]
  },
  {
   "cell_type": "markdown",
   "id": "2ab1091c",
   "metadata": {},
   "source": [
    "Oh no! A problem. It looks like we need our own API key access the data. Fortunately, WQU provides you one in your [profile settings](https://learn.wqu.edu/settings/api-keys).\n",
    "\n",
    "As you can imagine, an API key is information that should be kept secret, so it's a bad idea to include it in our application code. When it comes to sensitive information like this, developers and data scientists store it as an [environment variable](https://en.wikipedia.org/wiki/Environment_variable) that's kept in a `.env` file. "
   ]
  },
  {
   "cell_type": "markdown",
   "id": "dc1ff3d9",
   "metadata": {},
   "source": [
    "**Task 8.1.2:** Get your API key and save it in your `.env` file."
   ]
  },
  {
   "cell_type": "code",
   "execution_count": 3,
   "id": "3e11c50a",
   "metadata": {},
   "outputs": [
    {
     "name": "stdout",
     "output_type": "stream",
     "text": [
      "Requirement already satisfied: pydantic-settings in c:\\users\\meer\\anaconda3\\lib\\site-packages (2.0.3)\n",
      "Requirement already satisfied: python-dotenv>=0.21.0 in c:\\users\\meer\\anaconda3\\lib\\site-packages (from pydantic-settings) (1.0.0)\n",
      "Requirement already satisfied: pydantic>=2.0.1 in c:\\users\\meer\\anaconda3\\lib\\site-packages (from pydantic-settings) (2.4.1)\n",
      "Requirement already satisfied: typing-extensions>=4.6.1 in c:\\users\\meer\\anaconda3\\lib\\site-packages (from pydantic>=2.0.1->pydantic-settings) (4.8.0)\n",
      "Requirement already satisfied: annotated-types>=0.4.0 in c:\\users\\meer\\anaconda3\\lib\\site-packages (from pydantic>=2.0.1->pydantic-settings) (0.5.0)\n",
      "Requirement already satisfied: pydantic-core==2.10.1 in c:\\users\\meer\\anaconda3\\lib\\site-packages (from pydantic>=2.0.1->pydantic-settings) (2.10.1)\n",
      "Note: you may need to restart the kernel to use updated packages.\n"
     ]
    }
   ],
   "source": [
    "pip install pydantic-settings"
   ]
  },
  {
   "cell_type": "markdown",
   "id": "a4673cf0",
   "metadata": {},
   "source": [
    "Now that we've stored our API key, we need to import it into our code base. This is commonly done by creating a config module."
   ]
  },
  {
   "cell_type": "markdown",
   "id": "c5a7a902",
   "metadata": {},
   "source": [
    "**Task 8.1.3:** Import the `settings` variable from the `config` module. Then use the `dir` command to see what attributes it has."
   ]
  },
  {
   "cell_type": "code",
   "execution_count": 4,
   "id": "2b221715",
   "metadata": {},
   "outputs": [
    {
     "name": "stderr",
     "output_type": "stream",
     "text": [
      "C:\\Users\\MEER\\anaconda3\\lib\\site-packages\\pydantic\\_internal\\_fields.py:128: UserWarning: Field \"model_directory\" has conflict with protected namespace \"model_\".\n",
      "\n",
      "You may be able to resolve this warning by setting `model_config['protected_namespaces'] = ('settings_',)`.\n",
      "  warnings.warn(\n"
     ]
    },
    {
     "data": {
      "text/plain": [
       "'dfaa4ebda46843f001068843beb927c8c41c986400709e76e77de42d813957ed21253f3340d92995b8df49c5decf2ea0dcd5acb9064a0a8737cbc393d9dab9fefa5df5e79f7d2f76e1d5103763293e14813bcbc19254ceb5def5e8375efd4826fa83d0ddfacb469b32c35282f9d1f2a4bf22dee0181b9a6476c17fe73858038d'"
      ]
     },
     "execution_count": 4,
     "metadata": {},
     "output_type": "execute_result"
    }
   ],
   "source": [
    "# Import settings\n",
    "from config import settings\n",
    "\n",
    "# Use `dir` to list attributes\n",
    "settings.alpha_api_key"
   ]
  },
  {
   "cell_type": "markdown",
   "id": "a1128fb4",
   "metadata": {},
   "source": [
    "Beautiful! We have an API key. Since the key comes from WQU, we'll need to use a different base URL to get data from AlphaVantage. Let's see if we can get our new URL for Ambuja Cement working."
   ]
  },
  {
   "cell_type": "markdown",
   "id": "b0b078fd",
   "metadata": {},
   "source": [
    "**Task 8.1.4:** Create a new URL for `\"AMBUJACEM.BSE\"`. This time, use the base URL `\"https://learn-api.wqu.edu/1/data-services/alpha-vantage/query?\"` and incorporate your API key."
   ]
  },
  {
   "cell_type": "code",
   "execution_count": 5,
   "id": "71a3dbe0",
   "metadata": {},
   "outputs": [
    {
     "name": "stdout",
     "output_type": "stream",
     "text": [
      "url type: <class 'str'>\n"
     ]
    },
    {
     "data": {
      "text/plain": [
       "'https://learn-api.wqu.edu/1/data-services/alpha-vantage/query?function=TIME_SERIES_DAILY&symbol=AMBUJACEM.BSE&apikey=dfaa4ebda46843f001068843beb927c8c41c986400709e76e77de42d813957ed21253f3340d92995b8df49c5decf2ea0dcd5acb9064a0a8737cbc393d9dab9fefa5df5e79f7d2f76e1d5103763293e14813bcbc19254ceb5def5e8375efd4826fa83d0ddfacb469b32c35282f9d1f2a4bf22dee0181b9a6476c17fe73858038d'"
      ]
     },
     "execution_count": 5,
     "metadata": {},
     "output_type": "execute_result"
    }
   ],
   "source": [
    "url = (\n",
    "    \"https://learn-api.wqu.edu/1/data-services/alpha-vantage/query?\"\n",
    "    \"function=TIME_SERIES_DAILY&\"\n",
    "    \"symbol=AMBUJACEM.BSE&\"\n",
    "    f\"apikey={settings.alpha_api_key}\"\n",
    ")\n",
    "\n",
    "print(\"url type:\", type(url))\n",
    "url"
   ]
  },
  {
   "cell_type": "markdown",
   "id": "5bb846dd",
   "metadata": {},
   "source": [
    "It's working! Turns out there are a lot more parameters. Let's build up our URL to include them."
   ]
  },
  {
   "cell_type": "markdown",
   "id": "cabee140",
   "metadata": {},
   "source": [
    "**Task 8.1.5:** <a id=\"task-815\">Go</a> to the documentation for the [AlphaVantage Time Series Daily API](https://www.alphavantage.co/documentation/#daily). Expand your URL to incorporate all the parameters listed in the documentation. Also, to make your URL more dynamic, create variable names for all the parameters that can be added to the URL."
   ]
  },
  {
   "cell_type": "code",
   "execution_count": 10,
   "id": "558a8ace",
   "metadata": {},
   "outputs": [
    {
     "name": "stdout",
     "output_type": "stream",
     "text": [
      "url type: <class 'str'>\n"
     ]
    },
    {
     "data": {
      "text/plain": [
       "'https://learn-api.wqu.edu/1/data-services/alpha-vantage/query?function=TIME_SERIES_DAILY&symbol=AMBUJACEM.BSE&outputssize=compact&datatype=json&apikey=dfaa4ebda46843f001068843beb927c8c41c986400709e76e77de42d813957ed21253f3340d92995b8df49c5decf2ea0dcd5acb9064a0a8737cbc393d9dab9fefa5df5e79f7d2f76e1d5103763293e14813bcbc19254ceb5def5e8375efd4826fa83d0ddfacb469b32c35282f9d1f2a4bf22dee0181b9a6476c17fe73858038d'"
      ]
     },
     "execution_count": 10,
     "metadata": {},
     "output_type": "execute_result"
    }
   ],
   "source": [
    "ticker = \"AMBUJACEM.BSE\"\n",
    "output_size = \"compact\"\n",
    "data_type = \"json\"\n",
    "\n",
    "url = (\n",
    "    \"https://learn-api.wqu.edu/1/data-services/alpha-vantage/query?\"\n",
    "    \"function=TIME_SERIES_DAILY&\"\n",
    "    f\"symbol={ticker}&\"\n",
    "    f\"outputssize={output_size}&\"\n",
    "    f\"datatype={data_type}&\"\n",
    "    f\"apikey={settings.alpha_api_key}\"\n",
    ")\n",
    "print(\"url type:\", type(url))\n",
    "url"
   ]
  },
  {
   "cell_type": "markdown",
   "id": "e74628e1",
   "metadata": {},
   "source": [
    "# Accessing APIs Through a Request"
   ]
  },
  {
   "cell_type": "markdown",
   "id": "d8d0d4dd",
   "metadata": {},
   "source": [
    "We've seen how to access the AlphaVantage API by clicking on a URL, but this won't work for the application we're building in this project because only humans click URLs. Computer programs access APIs by making **requests**. Let's build our first request using the URL we created in the previous task. "
   ]
  },
  {
   "cell_type": "markdown",
   "id": "65f176c4",
   "metadata": {},
   "source": [
    "**Task 8.1.6:** Use the requests library to make a `get` request to the URL you created in the previous task. Assign the response to the variable `response`. m"
   ]
  },
  {
   "cell_type": "code",
   "execution_count": 11,
   "id": "f0ca427a",
   "metadata": {},
   "outputs": [
    {
     "name": "stdout",
     "output_type": "stream",
     "text": [
      "response type: <class 'requests.models.Response'>\n"
     ]
    }
   ],
   "source": [
    "response = requests.get(url=url)\n",
    "\n",
    "print(\"response type:\", type(response))"
   ]
  },
  {
   "cell_type": "markdown",
   "id": "26c1ef6c",
   "metadata": {},
   "source": [
    "That tells us what kind of response we've gotten, but it doesn't tell us anything about what it means. If we want to find out what kinds of data are actually in the response, we'll need to use the dir command."
   ]
  },
  {
   "cell_type": "markdown",
   "id": "d12498a1",
   "metadata": {},
   "source": [
    "**Task 8.1.7:** Use `dir` command to see what attributes and methods `response` has."
   ]
  },
  {
   "cell_type": "code",
   "execution_count": 12,
   "id": "423908b4",
   "metadata": {},
   "outputs": [
    {
     "data": {
      "text/plain": [
       "['__attrs__',\n",
       " '__bool__',\n",
       " '__class__',\n",
       " '__delattr__',\n",
       " '__dict__',\n",
       " '__dir__',\n",
       " '__doc__',\n",
       " '__enter__',\n",
       " '__eq__',\n",
       " '__exit__',\n",
       " '__format__',\n",
       " '__ge__',\n",
       " '__getattribute__',\n",
       " '__getstate__',\n",
       " '__gt__',\n",
       " '__hash__',\n",
       " '__init__',\n",
       " '__init_subclass__',\n",
       " '__iter__',\n",
       " '__le__',\n",
       " '__lt__',\n",
       " '__module__',\n",
       " '__ne__',\n",
       " '__new__',\n",
       " '__nonzero__',\n",
       " '__reduce__',\n",
       " '__reduce_ex__',\n",
       " '__repr__',\n",
       " '__setattr__',\n",
       " '__setstate__',\n",
       " '__sizeof__',\n",
       " '__str__',\n",
       " '__subclasshook__',\n",
       " '__weakref__',\n",
       " '_content',\n",
       " '_content_consumed',\n",
       " '_next',\n",
       " 'apparent_encoding',\n",
       " 'close',\n",
       " 'connection',\n",
       " 'content',\n",
       " 'cookies',\n",
       " 'elapsed',\n",
       " 'encoding',\n",
       " 'headers',\n",
       " 'history',\n",
       " 'is_permanent_redirect',\n",
       " 'is_redirect',\n",
       " 'iter_content',\n",
       " 'iter_lines',\n",
       " 'json',\n",
       " 'links',\n",
       " 'next',\n",
       " 'ok',\n",
       " 'raise_for_status',\n",
       " 'raw',\n",
       " 'reason',\n",
       " 'request',\n",
       " 'status_code',\n",
       " 'text',\n",
       " 'url']"
      ]
     },
     "execution_count": 12,
     "metadata": {},
     "output_type": "execute_result"
    }
   ],
   "source": [
    "# Use `dir` on your `response`\n",
    "dir(response)"
   ]
  },
  {
   "cell_type": "markdown",
   "id": "36c04145",
   "metadata": {},
   "source": [
    "dir returns a list, and, as you can see, there are lots of possibilities here! For now, let's focus on two attributes: status_code and text.\n",
    "\n",
    "We'll start with status_code. Every time you make a call to a URL, the response includes an HTTP status code which can be accessed with the status_code method. Let's see what ours is."
   ]
  },
  {
   "cell_type": "markdown",
   "id": "58dcdbd5",
   "metadata": {},
   "source": [
    "**Task 8.1.8:** Assign the status code for your `response` to the variable `response_code`."
   ]
  },
  {
   "cell_type": "code",
   "execution_count": 13,
   "id": "b9c834d8",
   "metadata": {},
   "outputs": [
    {
     "name": "stdout",
     "output_type": "stream",
     "text": [
      "code type: <class 'int'>\n"
     ]
    },
    {
     "data": {
      "text/plain": [
       "200"
      ]
     },
     "execution_count": 13,
     "metadata": {},
     "output_type": "execute_result"
    }
   ],
   "source": [
    "response_code = response.status_code\n",
    "\n",
    "print(\"code type:\", type(response_code))\n",
    "response_code"
   ]
  },
  {
   "cell_type": "markdown",
   "id": "9fb9373a",
   "metadata": {},
   "source": [
    "Translated to English, 200 means \"OK\". It's the standard response for a successful HTTP request. In other words, it worked! We successfully received data back from the AlphaVantage API.\n",
    "\n",
    "Now let's take a look at the text."
   ]
  },
  {
   "cell_type": "markdown",
   "id": "a865853b",
   "metadata": {},
   "source": [
    "**Task 8.1.9:** Assign the test for your `response` to the variable `response_text`."
   ]
  },
  {
   "cell_type": "code",
   "execution_count": 14,
   "id": "02496828",
   "metadata": {},
   "outputs": [
    {
     "name": "stdout",
     "output_type": "stream",
     "text": [
      "response_text type: <class 'str'>\n",
      "{\n",
      "    \"Meta Data\": {\n",
      "        \"1. Information\": \"Daily Prices (open, high, low, close) and Volumes\",\n",
      "        \"2. Symbol\": \"AMBUJACEM.BSE\",\n",
      "        \"3. Last Refreshed\": \"2023-09-26\",\n",
      "        \"4. Output \n"
     ]
    }
   ],
   "source": [
    "response_text = response.text\n",
    "\n",
    "print(\"response_text type:\", type(response_text))\n",
    "print(response_text[:200])"
   ]
  },
  {
   "cell_type": "markdown",
   "id": "a7d3d6f3",
   "metadata": {},
   "source": [
    "This string looks like the data we previously saw in our browser when we clicked on the URL in <a href=\"#task-815\">Task 8.1.5</a>. But we can't work with data structured as JSON when it's a string. Instead, we need it in a dictionary."
   ]
  },
  {
   "cell_type": "markdown",
   "id": "40b15d95",
   "metadata": {},
   "source": [
    "**Task 8.1.10:** Use `json` method to access a dictionary version of the data. Assign it to the variable name `response_data`."
   ]
  },
  {
   "cell_type": "code",
   "execution_count": 16,
   "id": "dff87b27",
   "metadata": {},
   "outputs": [
    {
     "name": "stdout",
     "output_type": "stream",
     "text": [
      "response_data type: <class 'dict'>\n"
     ]
    }
   ],
   "source": [
    "response_data = response.json()\n",
    "\n",
    "print(\"response_data type:\", type(response_data))"
   ]
  },
  {
   "cell_type": "markdown",
   "id": "6931aece",
   "metadata": {},
   "source": [
    "Let's check to make sure that the data is structured in the same way we saw in our browser."
   ]
  },
  {
   "cell_type": "markdown",
   "id": "d8a3e7cd",
   "metadata": {},
   "source": [
    "**Task 8.1.11:** Print the keys of `response_data`. Are they what you expected?"
   ]
  },
  {
   "cell_type": "code",
   "execution_count": 17,
   "id": "18b779a3",
   "metadata": {},
   "outputs": [
    {
     "data": {
      "text/plain": [
       "dict_keys(['Meta Data', 'Time Series (Daily)'])"
      ]
     },
     "execution_count": 17,
     "metadata": {},
     "output_type": "execute_result"
    }
   ],
   "source": [
    "# Print `response_data` keys\n",
    "response_data.keys()"
   ]
  },
  {
   "cell_type": "markdown",
   "id": "45017653",
   "metadata": {},
   "source": [
    "Now let's look at data that's assigned to the `\"Time Series (Daily)\"` key."
   ]
  },
  {
   "cell_type": "markdown",
   "id": "e7129b46",
   "metadata": {},
   "source": [
    "**Task 8.1.12:** Assign the value for the `\"Time Series (Daily)\"` key to the variable `stock_data`. Then examine the data for one of the days in `stock_data`."
   ]
  },
  {
   "cell_type": "code",
   "execution_count": 18,
   "id": "4d3f1a80",
   "metadata": {},
   "outputs": [
    {
     "name": "stdout",
     "output_type": "stream",
     "text": [
      "stock_data type: <class 'dict'>\n"
     ]
    },
    {
     "data": {
      "text/plain": [
       "{'1. open': '423.1500',\n",
       " '2. high': '433.8000',\n",
       " '3. low': '422.5500',\n",
       " '4. close': '429.6500',\n",
       " '5. volume': '117821'}"
      ]
     },
     "execution_count": 18,
     "metadata": {},
     "output_type": "execute_result"
    }
   ],
   "source": [
    "# Extract `\"Time Series (Daily)\"` value from `response_data`\n",
    "stock_data = response_data[\"Time Series (Daily)\"]\n",
    "\n",
    "print(\"stock_data type:\", type(stock_data))\n",
    "\n",
    "# Extract data for one of the days in `stock_data`\n",
    "\n",
    "stock_data['2023-09-26']"
   ]
  },
  {
   "cell_type": "markdown",
   "id": "5ec42246",
   "metadata": {},
   "source": [
    "Now that we know how the data is organized when we extract it from the API, let's transform it into a DataFrame to make it more manageable."
   ]
  },
  {
   "cell_type": "markdown",
   "id": "c4182597",
   "metadata": {},
   "source": [
    "**Task 8.1.13:** Read the data from `stock_data` into a DataFrame named `df_ambuja`. Be sure all your data types are correct!"
   ]
  },
  {
   "cell_type": "code",
   "execution_count": 19,
   "id": "0ca9db0e",
   "metadata": {},
   "outputs": [
    {
     "name": "stdout",
     "output_type": "stream",
     "text": [
      "df_ambuja shape: (100, 5)\n",
      "\n",
      "<class 'pandas.core.frame.DataFrame'>\n",
      "Index: 100 entries, 2023-09-26 to 2023-05-05\n",
      "Data columns (total 5 columns):\n",
      " #   Column     Non-Null Count  Dtype  \n",
      "---  ------     --------------  -----  \n",
      " 0   1. open    100 non-null    float64\n",
      " 1   2. high    100 non-null    float64\n",
      " 2   3. low     100 non-null    float64\n",
      " 3   4. close   100 non-null    float64\n",
      " 4   5. volume  100 non-null    float64\n",
      "dtypes: float64(5)\n",
      "memory usage: 4.7+ KB\n",
      "None\n"
     ]
    },
    {
     "data": {
      "text/html": [
       "<div>\n",
       "<style scoped>\n",
       "    .dataframe tbody tr th:only-of-type {\n",
       "        vertical-align: middle;\n",
       "    }\n",
       "\n",
       "    .dataframe tbody tr th {\n",
       "        vertical-align: top;\n",
       "    }\n",
       "\n",
       "    .dataframe thead th {\n",
       "        text-align: right;\n",
       "    }\n",
       "</style>\n",
       "<table border=\"1\" class=\"dataframe\">\n",
       "  <thead>\n",
       "    <tr style=\"text-align: right;\">\n",
       "      <th></th>\n",
       "      <th>1. open</th>\n",
       "      <th>2. high</th>\n",
       "      <th>3. low</th>\n",
       "      <th>4. close</th>\n",
       "      <th>5. volume</th>\n",
       "    </tr>\n",
       "  </thead>\n",
       "  <tbody>\n",
       "    <tr>\n",
       "      <th>2023-09-26</th>\n",
       "      <td>423.15</td>\n",
       "      <td>433.80</td>\n",
       "      <td>422.55</td>\n",
       "      <td>429.65</td>\n",
       "      <td>117821.0</td>\n",
       "    </tr>\n",
       "    <tr>\n",
       "      <th>2023-09-25</th>\n",
       "      <td>420.95</td>\n",
       "      <td>425.65</td>\n",
       "      <td>414.90</td>\n",
       "      <td>422.60</td>\n",
       "      <td>94261.0</td>\n",
       "    </tr>\n",
       "    <tr>\n",
       "      <th>2023-09-22</th>\n",
       "      <td>425.40</td>\n",
       "      <td>428.50</td>\n",
       "      <td>418.25</td>\n",
       "      <td>420.35</td>\n",
       "      <td>84318.0</td>\n",
       "    </tr>\n",
       "    <tr>\n",
       "      <th>2023-09-21</th>\n",
       "      <td>427.00</td>\n",
       "      <td>430.65</td>\n",
       "      <td>423.20</td>\n",
       "      <td>425.95</td>\n",
       "      <td>179754.0</td>\n",
       "    </tr>\n",
       "    <tr>\n",
       "      <th>2023-09-20</th>\n",
       "      <td>436.05</td>\n",
       "      <td>438.30</td>\n",
       "      <td>425.15</td>\n",
       "      <td>428.20</td>\n",
       "      <td>71026.0</td>\n",
       "    </tr>\n",
       "    <tr>\n",
       "      <th>2023-09-18</th>\n",
       "      <td>443.25</td>\n",
       "      <td>445.50</td>\n",
       "      <td>433.25</td>\n",
       "      <td>436.40</td>\n",
       "      <td>68646.0</td>\n",
       "    </tr>\n",
       "    <tr>\n",
       "      <th>2023-09-15</th>\n",
       "      <td>446.55</td>\n",
       "      <td>447.95</td>\n",
       "      <td>442.85</td>\n",
       "      <td>445.00</td>\n",
       "      <td>66595.0</td>\n",
       "    </tr>\n",
       "    <tr>\n",
       "      <th>2023-09-14</th>\n",
       "      <td>446.75</td>\n",
       "      <td>446.75</td>\n",
       "      <td>441.85</td>\n",
       "      <td>445.05</td>\n",
       "      <td>59282.0</td>\n",
       "    </tr>\n",
       "    <tr>\n",
       "      <th>2023-09-13</th>\n",
       "      <td>445.15</td>\n",
       "      <td>450.00</td>\n",
       "      <td>440.55</td>\n",
       "      <td>443.70</td>\n",
       "      <td>150506.0</td>\n",
       "    </tr>\n",
       "    <tr>\n",
       "      <th>2023-09-12</th>\n",
       "      <td>452.05</td>\n",
       "      <td>453.70</td>\n",
       "      <td>436.45</td>\n",
       "      <td>445.10</td>\n",
       "      <td>106434.0</td>\n",
       "    </tr>\n",
       "  </tbody>\n",
       "</table>\n",
       "</div>"
      ],
      "text/plain": [
       "            1. open  2. high  3. low  4. close  5. volume\n",
       "2023-09-26   423.15   433.80  422.55    429.65   117821.0\n",
       "2023-09-25   420.95   425.65  414.90    422.60    94261.0\n",
       "2023-09-22   425.40   428.50  418.25    420.35    84318.0\n",
       "2023-09-21   427.00   430.65  423.20    425.95   179754.0\n",
       "2023-09-20   436.05   438.30  425.15    428.20    71026.0\n",
       "2023-09-18   443.25   445.50  433.25    436.40    68646.0\n",
       "2023-09-15   446.55   447.95  442.85    445.00    66595.0\n",
       "2023-09-14   446.75   446.75  441.85    445.05    59282.0\n",
       "2023-09-13   445.15   450.00  440.55    443.70   150506.0\n",
       "2023-09-12   452.05   453.70  436.45    445.10   106434.0"
      ]
     },
     "execution_count": 19,
     "metadata": {},
     "output_type": "execute_result"
    }
   ],
   "source": [
    "df_ambuja = pd.DataFrame.from_dict(stock_data,orient=\"index\", dtype=float)\n",
    "\n",
    "print(\"df_ambuja shape:\", df_ambuja.shape)\n",
    "print()\n",
    "print(df_ambuja.info())\n",
    "df_ambuja.head(10)"
   ]
  },
  {
   "cell_type": "markdown",
   "id": "0abea43f",
   "metadata": {},
   "source": [
    "All in all, this looks pretty good, but there are a couple of problems: the data type of the dates, and the format of the headers. Let's fix the dates first. Right now, the dates are strings; in order to make the rest of our code work, we'll need to create a proper `DatetimeIndex`. "
   ]
  },
  {
   "cell_type": "markdown",
   "id": "ab399c1a",
   "metadata": {},
   "source": [
    "**Task 8.1.14:** Transform the index of `df_ambuja` into a `DatetimeIndex` with the name `\"date\"`."
   ]
  },
  {
   "cell_type": "code",
   "execution_count": 20,
   "id": "96cd05af",
   "metadata": {},
   "outputs": [
    {
     "name": "stdout",
     "output_type": "stream",
     "text": [
      "<class 'pandas.core.frame.DataFrame'>\n",
      "DatetimeIndex: 100 entries, 2023-09-26 to 2023-05-05\n",
      "Data columns (total 5 columns):\n",
      " #   Column     Non-Null Count  Dtype  \n",
      "---  ------     --------------  -----  \n",
      " 0   1. open    100 non-null    float64\n",
      " 1   2. high    100 non-null    float64\n",
      " 2   3. low     100 non-null    float64\n",
      " 3   4. close   100 non-null    float64\n",
      " 4   5. volume  100 non-null    float64\n",
      "dtypes: float64(5)\n",
      "memory usage: 4.7 KB\n",
      "None\n"
     ]
    },
    {
     "data": {
      "text/html": [
       "<div>\n",
       "<style scoped>\n",
       "    .dataframe tbody tr th:only-of-type {\n",
       "        vertical-align: middle;\n",
       "    }\n",
       "\n",
       "    .dataframe tbody tr th {\n",
       "        vertical-align: top;\n",
       "    }\n",
       "\n",
       "    .dataframe thead th {\n",
       "        text-align: right;\n",
       "    }\n",
       "</style>\n",
       "<table border=\"1\" class=\"dataframe\">\n",
       "  <thead>\n",
       "    <tr style=\"text-align: right;\">\n",
       "      <th></th>\n",
       "      <th>1. open</th>\n",
       "      <th>2. high</th>\n",
       "      <th>3. low</th>\n",
       "      <th>4. close</th>\n",
       "      <th>5. volume</th>\n",
       "    </tr>\n",
       "    <tr>\n",
       "      <th>date</th>\n",
       "      <th></th>\n",
       "      <th></th>\n",
       "      <th></th>\n",
       "      <th></th>\n",
       "      <th></th>\n",
       "    </tr>\n",
       "  </thead>\n",
       "  <tbody>\n",
       "    <tr>\n",
       "      <th>2023-09-26</th>\n",
       "      <td>423.15</td>\n",
       "      <td>433.80</td>\n",
       "      <td>422.55</td>\n",
       "      <td>429.65</td>\n",
       "      <td>117821.0</td>\n",
       "    </tr>\n",
       "    <tr>\n",
       "      <th>2023-09-25</th>\n",
       "      <td>420.95</td>\n",
       "      <td>425.65</td>\n",
       "      <td>414.90</td>\n",
       "      <td>422.60</td>\n",
       "      <td>94261.0</td>\n",
       "    </tr>\n",
       "    <tr>\n",
       "      <th>2023-09-22</th>\n",
       "      <td>425.40</td>\n",
       "      <td>428.50</td>\n",
       "      <td>418.25</td>\n",
       "      <td>420.35</td>\n",
       "      <td>84318.0</td>\n",
       "    </tr>\n",
       "    <tr>\n",
       "      <th>2023-09-21</th>\n",
       "      <td>427.00</td>\n",
       "      <td>430.65</td>\n",
       "      <td>423.20</td>\n",
       "      <td>425.95</td>\n",
       "      <td>179754.0</td>\n",
       "    </tr>\n",
       "    <tr>\n",
       "      <th>2023-09-20</th>\n",
       "      <td>436.05</td>\n",
       "      <td>438.30</td>\n",
       "      <td>425.15</td>\n",
       "      <td>428.20</td>\n",
       "      <td>71026.0</td>\n",
       "    </tr>\n",
       "  </tbody>\n",
       "</table>\n",
       "</div>"
      ],
      "text/plain": [
       "            1. open  2. high  3. low  4. close  5. volume\n",
       "date                                                     \n",
       "2023-09-26   423.15   433.80  422.55    429.65   117821.0\n",
       "2023-09-25   420.95   425.65  414.90    422.60    94261.0\n",
       "2023-09-22   425.40   428.50  418.25    420.35    84318.0\n",
       "2023-09-21   427.00   430.65  423.20    425.95   179754.0\n",
       "2023-09-20   436.05   438.30  425.15    428.20    71026.0"
      ]
     },
     "execution_count": 20,
     "metadata": {},
     "output_type": "execute_result"
    }
   ],
   "source": [
    "# Convert `df_ambuja` index to `DatetimeIndex`\n",
    "df_ambuja.index = pd.to_datetime(df_ambuja.index)\n",
    "\n",
    "# Name index \"date\"\n",
    "df_ambuja.index.name = \"date\"\n",
    "\n",
    "print(df_ambuja.info())\n",
    "df_ambuja.head()"
   ]
  },
  {
   "cell_type": "markdown",
   "id": "8fff79e4",
   "metadata": {},
   "source": [
    "<div class=\"alert alert-info\" role=\"alert\">\n",
    "    <p>Note that the rows in <code>df_ambuja</code> are sorted <b>descending</b>, with the most recent date at the top. This will work to our advantage when we store and retrieve the data from our application database, but we'll need to sort it <b>ascending</b> before we can use it to train a model.</p>\n",
    "</div>"
   ]
  },
  {
   "cell_type": "markdown",
   "id": "68769229",
   "metadata": {},
   "source": [
    "Okay! Now that the dates are fixed, lets deal with the headers. There isn't really anything *wrong* with them, but those numbers make them look a little unfinished. Let's get rid of them."
   ]
  },
  {
   "cell_type": "markdown",
   "id": "b7711c36",
   "metadata": {},
   "source": [
    "**Task 8.1.15:** Remove the numbering from the column names for `df_ambuja`."
   ]
  },
  {
   "cell_type": "code",
   "execution_count": 21,
   "id": "2e518ce7",
   "metadata": {},
   "outputs": [
    {
     "name": "stdout",
     "output_type": "stream",
     "text": [
      "<class 'pandas.core.frame.DataFrame'>\n",
      "DatetimeIndex: 100 entries, 2023-09-26 to 2023-05-05\n",
      "Data columns (total 5 columns):\n",
      " #   Column  Non-Null Count  Dtype  \n",
      "---  ------  --------------  -----  \n",
      " 0   open    100 non-null    float64\n",
      " 1   high    100 non-null    float64\n",
      " 2   low     100 non-null    float64\n",
      " 3   close   100 non-null    float64\n",
      " 4   volume  100 non-null    float64\n",
      "dtypes: float64(5)\n",
      "memory usage: 4.7 KB\n",
      "None\n"
     ]
    },
    {
     "data": {
      "text/html": [
       "<div>\n",
       "<style scoped>\n",
       "    .dataframe tbody tr th:only-of-type {\n",
       "        vertical-align: middle;\n",
       "    }\n",
       "\n",
       "    .dataframe tbody tr th {\n",
       "        vertical-align: top;\n",
       "    }\n",
       "\n",
       "    .dataframe thead th {\n",
       "        text-align: right;\n",
       "    }\n",
       "</style>\n",
       "<table border=\"1\" class=\"dataframe\">\n",
       "  <thead>\n",
       "    <tr style=\"text-align: right;\">\n",
       "      <th></th>\n",
       "      <th>open</th>\n",
       "      <th>high</th>\n",
       "      <th>low</th>\n",
       "      <th>close</th>\n",
       "      <th>volume</th>\n",
       "    </tr>\n",
       "    <tr>\n",
       "      <th>date</th>\n",
       "      <th></th>\n",
       "      <th></th>\n",
       "      <th></th>\n",
       "      <th></th>\n",
       "      <th></th>\n",
       "    </tr>\n",
       "  </thead>\n",
       "  <tbody>\n",
       "    <tr>\n",
       "      <th>2023-09-26</th>\n",
       "      <td>423.15</td>\n",
       "      <td>433.80</td>\n",
       "      <td>422.55</td>\n",
       "      <td>429.65</td>\n",
       "      <td>117821.0</td>\n",
       "    </tr>\n",
       "    <tr>\n",
       "      <th>2023-09-25</th>\n",
       "      <td>420.95</td>\n",
       "      <td>425.65</td>\n",
       "      <td>414.90</td>\n",
       "      <td>422.60</td>\n",
       "      <td>94261.0</td>\n",
       "    </tr>\n",
       "    <tr>\n",
       "      <th>2023-09-22</th>\n",
       "      <td>425.40</td>\n",
       "      <td>428.50</td>\n",
       "      <td>418.25</td>\n",
       "      <td>420.35</td>\n",
       "      <td>84318.0</td>\n",
       "    </tr>\n",
       "    <tr>\n",
       "      <th>2023-09-21</th>\n",
       "      <td>427.00</td>\n",
       "      <td>430.65</td>\n",
       "      <td>423.20</td>\n",
       "      <td>425.95</td>\n",
       "      <td>179754.0</td>\n",
       "    </tr>\n",
       "    <tr>\n",
       "      <th>2023-09-20</th>\n",
       "      <td>436.05</td>\n",
       "      <td>438.30</td>\n",
       "      <td>425.15</td>\n",
       "      <td>428.20</td>\n",
       "      <td>71026.0</td>\n",
       "    </tr>\n",
       "  </tbody>\n",
       "</table>\n",
       "</div>"
      ],
      "text/plain": [
       "              open    high     low   close    volume\n",
       "date                                                \n",
       "2023-09-26  423.15  433.80  422.55  429.65  117821.0\n",
       "2023-09-25  420.95  425.65  414.90  422.60   94261.0\n",
       "2023-09-22  425.40  428.50  418.25  420.35   84318.0\n",
       "2023-09-21  427.00  430.65  423.20  425.95  179754.0\n",
       "2023-09-20  436.05  438.30  425.15  428.20   71026.0"
      ]
     },
     "execution_count": 21,
     "metadata": {},
     "output_type": "execute_result"
    }
   ],
   "source": [
    "# Remove numbering from `df_ambuja` column names\n",
    "# df_ambuja.columns = [c[3:] for c in df_ambuja.columns]\n",
    "# another robust method\n",
    "df_ambuja.columns = [c.split(\". \")[1] for c in df_ambuja.columns]\n",
    "print(df_ambuja.info())\n",
    "df_ambuja.head()"
   ]
  },
  {
   "cell_type": "markdown",
   "id": "d5390b5a",
   "metadata": {},
   "source": [
    "# Defensive Programming"
   ]
  },
  {
   "cell_type": "markdown",
   "id": "2d00bb54",
   "metadata": {},
   "source": [
    "Defensive programming is the practice of writing code which will continue to function, even if something goes wrong. We'll never be able to foresee all the problems people might run into with our code, but we can take steps to make sure things don't fall apart whenever one of those problems happens. \n",
    "\n",
    "So far, we've made API requests where everything works. But coding errors and problems with servers are common, and they can cause big issues in a data science project. Let's see how our `response` changes when we introduce common bugs in our code. "
   ]
  },
  {
   "cell_type": "markdown",
   "id": "67cd6a78",
   "metadata": {},
   "source": [
    "**Task 8.1.16:** Return to <a href=\"#task-815\">Task 8.1.5</a> and change the first part of your URL. Instead of `\"query\"`, use `\"search\"` (a path that doesn't exist). Then rerun your code for all the tasks that follow. What changes? What stays the same?"
   ]
  },
  {
   "cell_type": "code",
   "execution_count": null,
   "id": "88c1c6f8",
   "metadata": {},
   "outputs": [],
   "source": []
  },
  {
   "cell_type": "markdown",
   "id": "cbdf1707",
   "metadata": {},
   "source": [
    "We know what happens when we try to access a bad address. But what about when we access the right path with a bad ticker symbol?"
   ]
  },
  {
   "cell_type": "markdown",
   "id": "5cf59b15",
   "metadata": {},
   "source": [
    "**Task 8.1.17:** Return to <a href=\"#task-815\">Task 8.1.5</a> and change the ticker symbol from `\"AMBUJACEM.BSE\"` to `\"RAMBUJACEM.BSE\"` (a company that doesn't exist). Then rerun your code for all the tasks that follow. Again, take note of what changes and what stays the same."
   ]
  },
  {
   "cell_type": "code",
   "execution_count": null,
   "id": "83163f3b",
   "metadata": {},
   "outputs": [],
   "source": []
  },
  {
   "cell_type": "markdown",
   "id": "e158aada",
   "metadata": {},
   "source": [
    "Let's formalize our extraction and transformation process for the AlphaVantage API into a reproducible function."
   ]
  },
  {
   "cell_type": "markdown",
   "id": "fe5a133a",
   "metadata": {},
   "source": [
    "**Task 8.1.18:** Build a `get_daily` function that gets data from the AlphaVantage API and returns a clean DataFrame. Use the docstring as guidance. When you're satisfied with the result, submit your work to the grader. "
   ]
  },
  {
   "cell_type": "code",
   "execution_count": 24,
   "id": "282ce548",
   "metadata": {},
   "outputs": [],
   "source": [
    "def get_daily(ticker,output_size=\"full\"):\n",
    "\n",
    "    \"\"\"Get daily time series of an equity from AlphaVantage API.\n",
    "\n",
    "    Parameters\n",
    "    ----------\n",
    "    ticker : str\n",
    "        The ticker symbol of the equity.\n",
    "    output_size : str, optional\n",
    "        Number of observations to retrieve. \"compact\" returns the\n",
    "        latest 100 observations. \"full\" returns all observations for\n",
    "        equity. By default \"full\".\n",
    "\n",
    "    Returns\n",
    "    -------\n",
    "    pd.DataFrame\n",
    "        Columns are 'open', 'high', 'low', 'close', and 'volume'.\n",
    "        All are numeric.\n",
    "    \"\"\"\n",
    "    # Create URL (8.1.5)\n",
    "    url = (\n",
    "        \"https://learn-api.wqu.edu/1/data-services/alpha-vantage/query?\"\n",
    "        \"function=TIME_SERIES_DAILY&\"\n",
    "        f\"symbol={ticker}&\"\n",
    "        f\"outputssize={output_size}&\"\n",
    "        f\"datatype=json&\"\n",
    "        f\"apikey={settings.alpha_api_key}\"\n",
    ")\n",
    "\n",
    "    # Send request to API (8.1.6)\n",
    "    response = requests.get(url=url)\n",
    "\n",
    "    # Extract JSON data from response (8.1.10)\n",
    "    response_data = response.json()\n",
    "    \n",
    "    if \"Time Series (Daily)\" not in response_data.keys():\n",
    "        raise Exception(\n",
    "            f\"Invalid API call. check ticker symbol {ticker} is correct\"\n",
    "        )\n",
    "    \n",
    "    # Read data into DataFrame (8.1.12 & 8.1.13)\n",
    "    stock_data = response_data[\"Time Series (Daily)\"]\n",
    "    df = pd.DataFrame.from_dict(stock_data,orient=\"index\", dtype=float)\n",
    "\n",
    "    # Convert index to `DatetimeIndex` named \"date\" (8.1.14)\n",
    "    df.index = pd.to_datetime(df.index)\n",
    "    # Name index \"date\"\n",
    "    df.index.name = \"date\"\n",
    "\n",
    "    # Remove numbering from columns (8.1.15)\n",
    "    df.columns = [c.split(\". \")[1] for c in df.columns]\n",
    "\n",
    "    # Return DataFrame\n",
    "    return df"
   ]
  },
  {
   "cell_type": "code",
   "execution_count": 23,
   "id": "8aaac3ef",
   "metadata": {},
   "outputs": [
    {
     "name": "stdout",
     "output_type": "stream",
     "text": [
      "<class 'pandas.core.frame.DataFrame'>\n",
      "DatetimeIndex: 100 entries, 2023-09-26 to 2023-05-05\n",
      "Data columns (total 5 columns):\n",
      " #   Column  Non-Null Count  Dtype  \n",
      "---  ------  --------------  -----  \n",
      " 0   open    100 non-null    float64\n",
      " 1   high    100 non-null    float64\n",
      " 2   low     100 non-null    float64\n",
      " 3   close   100 non-null    float64\n",
      " 4   volume  100 non-null    float64\n",
      "dtypes: float64(5)\n",
      "memory usage: 4.7 KB\n",
      "None\n"
     ]
    },
    {
     "data": {
      "text/html": [
       "<div>\n",
       "<style scoped>\n",
       "    .dataframe tbody tr th:only-of-type {\n",
       "        vertical-align: middle;\n",
       "    }\n",
       "\n",
       "    .dataframe tbody tr th {\n",
       "        vertical-align: top;\n",
       "    }\n",
       "\n",
       "    .dataframe thead th {\n",
       "        text-align: right;\n",
       "    }\n",
       "</style>\n",
       "<table border=\"1\" class=\"dataframe\">\n",
       "  <thead>\n",
       "    <tr style=\"text-align: right;\">\n",
       "      <th></th>\n",
       "      <th>open</th>\n",
       "      <th>high</th>\n",
       "      <th>low</th>\n",
       "      <th>close</th>\n",
       "      <th>volume</th>\n",
       "    </tr>\n",
       "    <tr>\n",
       "      <th>date</th>\n",
       "      <th></th>\n",
       "      <th></th>\n",
       "      <th></th>\n",
       "      <th></th>\n",
       "      <th></th>\n",
       "    </tr>\n",
       "  </thead>\n",
       "  <tbody>\n",
       "    <tr>\n",
       "      <th>2023-09-26</th>\n",
       "      <td>423.15</td>\n",
       "      <td>433.80</td>\n",
       "      <td>422.55</td>\n",
       "      <td>429.65</td>\n",
       "      <td>117821.0</td>\n",
       "    </tr>\n",
       "    <tr>\n",
       "      <th>2023-09-25</th>\n",
       "      <td>420.95</td>\n",
       "      <td>425.65</td>\n",
       "      <td>414.90</td>\n",
       "      <td>422.60</td>\n",
       "      <td>94261.0</td>\n",
       "    </tr>\n",
       "    <tr>\n",
       "      <th>2023-09-22</th>\n",
       "      <td>425.40</td>\n",
       "      <td>428.50</td>\n",
       "      <td>418.25</td>\n",
       "      <td>420.35</td>\n",
       "      <td>84318.0</td>\n",
       "    </tr>\n",
       "    <tr>\n",
       "      <th>2023-09-21</th>\n",
       "      <td>427.00</td>\n",
       "      <td>430.65</td>\n",
       "      <td>423.20</td>\n",
       "      <td>425.95</td>\n",
       "      <td>179754.0</td>\n",
       "    </tr>\n",
       "    <tr>\n",
       "      <th>2023-09-20</th>\n",
       "      <td>436.05</td>\n",
       "      <td>438.30</td>\n",
       "      <td>425.15</td>\n",
       "      <td>428.20</td>\n",
       "      <td>71026.0</td>\n",
       "    </tr>\n",
       "  </tbody>\n",
       "</table>\n",
       "</div>"
      ],
      "text/plain": [
       "              open    high     low   close    volume\n",
       "date                                                \n",
       "2023-09-26  423.15  433.80  422.55  429.65  117821.0\n",
       "2023-09-25  420.95  425.65  414.90  422.60   94261.0\n",
       "2023-09-22  425.40  428.50  418.25  420.35   84318.0\n",
       "2023-09-21  427.00  430.65  423.20  425.95  179754.0\n",
       "2023-09-20  436.05  438.30  425.15  428.20   71026.0"
      ]
     },
     "execution_count": 23,
     "metadata": {},
     "output_type": "execute_result"
    }
   ],
   "source": [
    "# Test your function\n",
    "df_ambuja = get_daily(ticker=\"AMBUJACEM.BSE\",output_size=\"compact\")\n",
    "\n",
    "print(df_ambuja.info())\n",
    "df_ambuja.head()"
   ]
  },
  {
   "cell_type": "markdown",
   "id": "fe72ccb0",
   "metadata": {},
   "source": [
    "How does this function deal with the two bugs we've explored in this section? Our first error, a bad URL, is something we don't need to worry about. No matter what the user inputs into this function, the URL will always be correct. But see what happens when the user inputs a bad ticker symbol. What's the error message? Would it help the user locate their mistake?"
   ]
  },
  {
   "cell_type": "markdown",
   "id": "aae5a807",
   "metadata": {},
   "source": [
    "**Task 8.1.19:** Add an `if` clause to your `get_daily` function so that it throws an `Exception` when a user supplies a bad ticker symbol. Be sure the error message is informative.\n"
   ]
  },
  {
   "cell_type": "code",
   "execution_count": 25,
   "id": "da98225b",
   "metadata": {},
   "outputs": [
    {
     "ename": "Exception",
     "evalue": "Invalid API call. check ticker symbol ABUJACEM.BSE is correct",
     "output_type": "error",
     "traceback": [
      "\u001b[1;31m---------------------------------------------------------------------------\u001b[0m",
      "\u001b[1;31mException\u001b[0m                                 Traceback (most recent call last)",
      "\u001b[1;32m<ipython-input-25-1dca4ddb63c8>\u001b[0m in \u001b[0;36m<module>\u001b[1;34m\u001b[0m\n\u001b[0;32m      1\u001b[0m \u001b[1;31m# Test your Exception\u001b[0m\u001b[1;33m\u001b[0m\u001b[1;33m\u001b[0m\u001b[1;33m\u001b[0m\u001b[0m\n\u001b[1;32m----> 2\u001b[1;33m \u001b[0mdf_test\u001b[0m \u001b[1;33m=\u001b[0m \u001b[0mget_daily\u001b[0m\u001b[1;33m(\u001b[0m\u001b[0mticker\u001b[0m\u001b[1;33m=\u001b[0m\u001b[1;34m\"ABUJACEM.BSE\"\u001b[0m\u001b[1;33m)\u001b[0m\u001b[1;33m\u001b[0m\u001b[1;33m\u001b[0m\u001b[0m\n\u001b[0m",
      "\u001b[1;32m<ipython-input-24-d3feebed4847>\u001b[0m in \u001b[0;36mget_daily\u001b[1;34m(ticker, output_size)\u001b[0m\n\u001b[0;32m     35\u001b[0m \u001b[1;33m\u001b[0m\u001b[0m\n\u001b[0;32m     36\u001b[0m     \u001b[1;32mif\u001b[0m \u001b[1;34m\"Time Series (Daily)\"\u001b[0m \u001b[1;32mnot\u001b[0m \u001b[1;32min\u001b[0m \u001b[0mresponse_data\u001b[0m\u001b[1;33m.\u001b[0m\u001b[0mkeys\u001b[0m\u001b[1;33m(\u001b[0m\u001b[1;33m)\u001b[0m\u001b[1;33m:\u001b[0m\u001b[1;33m\u001b[0m\u001b[1;33m\u001b[0m\u001b[0m\n\u001b[1;32m---> 37\u001b[1;33m         raise Exception(\n\u001b[0m\u001b[0;32m     38\u001b[0m             \u001b[1;34mf\"Invalid API call. check ticker symbol {ticker} is correct\"\u001b[0m\u001b[1;33m\u001b[0m\u001b[1;33m\u001b[0m\u001b[0m\n\u001b[0;32m     39\u001b[0m         )\n",
      "\u001b[1;31mException\u001b[0m: Invalid API call. check ticker symbol ABUJACEM.BSE is correct"
     ]
    }
   ],
   "source": [
    "# Test your Exception\n",
    "df_test = get_daily(ticker=\"ABUJACEM.BSE\")"
   ]
  },
  {
   "cell_type": "markdown",
   "id": "6f3be49f",
   "metadata": {},
   "source": [
    "Alright! We now have all the tools we need to get the data for our project. In the next lesson, we'll make our AlphaVantage code more reusable by creating a `data` module with class definitions. We'll also create the code we need to store and read this data from our application database."
   ]
  },
  {
   "cell_type": "code",
   "execution_count": null,
   "id": "a70b0249",
   "metadata": {},
   "outputs": [],
   "source": []
  }
 ],
 "metadata": {
  "kernelspec": {
   "display_name": "Python 3",
   "language": "python",
   "name": "python3"
  },
  "language_info": {
   "codemirror_mode": {
    "name": "ipython",
    "version": 3
   },
   "file_extension": ".py",
   "mimetype": "text/x-python",
   "name": "python",
   "nbconvert_exporter": "python",
   "pygments_lexer": "ipython3",
   "version": "3.8.8"
  }
 },
 "nbformat": 4,
 "nbformat_minor": 5
}
